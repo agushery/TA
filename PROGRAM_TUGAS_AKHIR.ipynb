{
  "nbformat": 4,
  "nbformat_minor": 5,
  "metadata": {
    "kernelspec": {
      "display_name": "Python 3 (ipykernel)",
      "language": "python",
      "name": "python3"
    },
    "language_info": {
      "codemirror_mode": {
        "name": "ipython",
        "version": 3
      },
      "file_extension": ".py",
      "mimetype": "text/x-python",
      "name": "python",
      "nbconvert_exporter": "python",
      "pygments_lexer": "ipython3",
      "version": "3.8.12"
    },
    "colab": {
      "name": "PROGRAM TUGAS AKHIR.ipynb",
      "provenance": [],
      "collapsed_sections": [],
      "include_colab_link": true
    },
    "accelerator": "GPU"
  },
  "cells": [
    {
      "cell_type": "markdown",
      "metadata": {
        "id": "view-in-github",
        "colab_type": "text"
      },
      "source": [
        "<a href=\"https://colab.research.google.com/github/agushery/TA/blob/main/PROGRAM_TUGAS_AKHIR.ipynb\" target=\"_parent\"><img src=\"https://colab.research.google.com/assets/colab-badge.svg\" alt=\"Open In Colab\"/></a>"
      ]
    },
    {
      "cell_type": "markdown",
      "metadata": {
        "id": "090d394d"
      },
      "source": [
        "# Data Mining Untuk Peramalan Mobilitas Masyarakat Kota Denpasar Dengan Metode LSTM (Long Short-Term Memory)"
      ],
      "id": "090d394d"
    },
    {
      "cell_type": "code",
      "metadata": {
        "id": "Ry3IGMSjY-zc",
        "colab": {
          "base_uri": "https://localhost:8080/"
        },
        "outputId": "2aef3f47-0bcc-44e4-dba7-9cdf6fe27f38"
      },
      "source": [
        "from google.colab import drive\n",
        "drive.mount('/content/drive')"
      ],
      "id": "Ry3IGMSjY-zc",
      "execution_count": 1,
      "outputs": [
        {
          "output_type": "stream",
          "name": "stdout",
          "text": [
            "Drive already mounted at /content/drive; to attempt to forcibly remount, call drive.mount(\"/content/drive\", force_remount=True).\n"
          ]
        }
      ]
    },
    {
      "cell_type": "markdown",
      "metadata": {
        "id": "07690eaa"
      },
      "source": [
        "## Persiapan Library"
      ],
      "id": "07690eaa"
    },
    {
      "cell_type": "code",
      "metadata": {
        "id": "1fa5bfb5"
      },
      "source": [
        "import pandas as pd\n",
        "from pandas.tseries.offsets import DateOffset\n",
        "\n",
        "import numpy as np\n",
        "\n",
        "from sklearn.model_selection import GridSearchCV\n",
        "from sklearn.preprocessing import MinMaxScaler\n",
        "from sklearn.metrics import mean_squared_error\n",
        "\n",
        "from tensorflow.keras.models import Sequential\n",
        "from tensorflow.keras.layers import Dense, Activation, Dropout\n",
        "from tensorflow.keras.layers import LSTM\n",
        "from tensorflow.keras.callbacks import EarlyStopping\n",
        "from tensorflow.keras.wrappers.scikit_learn import KerasRegressor\n",
        "from tensorflow.keras import backend as K\n",
        "\n",
        "import matplotlib.pyplot as plt\n",
        "import seaborn as sns"
      ],
      "id": "1fa5bfb5",
      "execution_count": 2,
      "outputs": []
    },
    {
      "cell_type": "markdown",
      "metadata": {
        "id": "e24000ce"
      },
      "source": [
        "## Insert Dataset"
      ],
      "id": "e24000ce"
    },
    {
      "cell_type": "code",
      "metadata": {
        "id": "417f0946"
      },
      "source": [
        "df = pd.read_csv(\"/content/drive/MyDrive/Dataset/TA/Data-Mobilitas.csv\")"
      ],
      "id": "417f0946",
      "execution_count": 3,
      "outputs": []
    },
    {
      "cell_type": "code",
      "metadata": {
        "id": "cadf6ddf",
        "colab": {
          "base_uri": "https://localhost:8080/",
          "height": 573
        },
        "outputId": "7fc64dd4-aad2-4e28-83e5-b9418e4a14f4"
      },
      "source": [
        "df.head()"
      ],
      "id": "cadf6ddf",
      "execution_count": 4,
      "outputs": [
        {
          "output_type": "execute_result",
          "data": {
            "text/html": [
              "<div>\n",
              "<style scoped>\n",
              "    .dataframe tbody tr th:only-of-type {\n",
              "        vertical-align: middle;\n",
              "    }\n",
              "\n",
              "    .dataframe tbody tr th {\n",
              "        vertical-align: top;\n",
              "    }\n",
              "\n",
              "    .dataframe thead th {\n",
              "        text-align: right;\n",
              "    }\n",
              "</style>\n",
              "<table border=\"1\" class=\"dataframe\">\n",
              "  <thead>\n",
              "    <tr style=\"text-align: right;\">\n",
              "      <th></th>\n",
              "      <th>No</th>\n",
              "      <th>Tempat</th>\n",
              "      <th>9/1/2021</th>\n",
              "      <th>9/2/2021</th>\n",
              "      <th>9/3/2021</th>\n",
              "      <th>9/4/2021</th>\n",
              "      <th>9/5/2021</th>\n",
              "      <th>9/6/2021</th>\n",
              "      <th>9/7/2021</th>\n",
              "      <th>9/8/2021</th>\n",
              "      <th>9/9/2021</th>\n",
              "      <th>9/10/2021</th>\n",
              "      <th>9/11/2021</th>\n",
              "      <th>9/12/2021</th>\n",
              "      <th>9/13/2021</th>\n",
              "      <th>9/14/2021</th>\n",
              "      <th>9/15/2021</th>\n",
              "      <th>9/16/2021</th>\n",
              "      <th>9/17/2021</th>\n",
              "      <th>9/18/2021</th>\n",
              "      <th>9/19/2021</th>\n",
              "      <th>9/20/2021</th>\n",
              "      <th>9/21/2021</th>\n",
              "      <th>9/22/2021</th>\n",
              "      <th>9/23/2021</th>\n",
              "      <th>9/24/2021</th>\n",
              "      <th>9/25/2021</th>\n",
              "      <th>9/26/2021</th>\n",
              "      <th>9/27/2021</th>\n",
              "      <th>9/28/2021</th>\n",
              "      <th>9/29/2021</th>\n",
              "      <th>9/30/2021</th>\n",
              "      <th>10/1/2021</th>\n",
              "      <th>10/2/2021</th>\n",
              "      <th>10/3/2021</th>\n",
              "      <th>10/4/2021</th>\n",
              "      <th>10/5/2021</th>\n",
              "      <th>10/6/2021</th>\n",
              "      <th>10/7/2021</th>\n",
              "      <th>10/8/2021</th>\n",
              "      <th>10/9/2021</th>\n",
              "      <th>10/10/2021</th>\n",
              "      <th>10/11/2021</th>\n",
              "      <th>10/12/2021</th>\n",
              "      <th>10/13/2021</th>\n",
              "      <th>10/14/2021</th>\n",
              "      <th>10/15/2021</th>\n",
              "      <th>10/16/2021</th>\n",
              "      <th>10/17/2021</th>\n",
              "      <th>10/18/2021</th>\n",
              "      <th>10/19/2021</th>\n",
              "      <th>10/20/2021</th>\n",
              "      <th>10/21/2021</th>\n",
              "      <th>10/22/2021</th>\n",
              "      <th>10/23/2021</th>\n",
              "      <th>10/24/2021</th>\n",
              "      <th>10/25/2021</th>\n",
              "      <th>10/26/2021</th>\n",
              "      <th>10/27/2021</th>\n",
              "      <th>10/28/2021</th>\n",
              "      <th>10/29/2021</th>\n",
              "      <th>10/30/2021</th>\n",
              "      <th>10/31/2021</th>\n",
              "    </tr>\n",
              "  </thead>\n",
              "  <tbody>\n",
              "    <tr>\n",
              "      <th>0</th>\n",
              "      <td>1.0</td>\n",
              "      <td>Banjar Mertanadhi</td>\n",
              "      <td>0.0</td>\n",
              "      <td>0.0</td>\n",
              "      <td>0.0</td>\n",
              "      <td>0.0</td>\n",
              "      <td>0.0</td>\n",
              "      <td>0.0</td>\n",
              "      <td>0.0</td>\n",
              "      <td>0.0</td>\n",
              "      <td>0.0</td>\n",
              "      <td>0.0</td>\n",
              "      <td>0.0</td>\n",
              "      <td>0.0</td>\n",
              "      <td>0.0</td>\n",
              "      <td>0.0</td>\n",
              "      <td>0.0</td>\n",
              "      <td>0.0</td>\n",
              "      <td>0.0</td>\n",
              "      <td>0.0</td>\n",
              "      <td>0.0</td>\n",
              "      <td>0.0</td>\n",
              "      <td>0.0</td>\n",
              "      <td>0.0</td>\n",
              "      <td>0.0</td>\n",
              "      <td>0.0</td>\n",
              "      <td>0.0</td>\n",
              "      <td>0.0</td>\n",
              "      <td>0.0</td>\n",
              "      <td>0.0</td>\n",
              "      <td>0.0</td>\n",
              "      <td>0.0</td>\n",
              "      <td>0.0</td>\n",
              "      <td>0.0</td>\n",
              "      <td>0.0</td>\n",
              "      <td>0.0</td>\n",
              "      <td>0.0</td>\n",
              "      <td>0.0</td>\n",
              "      <td>0.0</td>\n",
              "      <td>0.0</td>\n",
              "      <td>0.0</td>\n",
              "      <td>0.0</td>\n",
              "      <td>0.0</td>\n",
              "      <td>0.0</td>\n",
              "      <td>0.0</td>\n",
              "      <td>0.0</td>\n",
              "      <td>0.0</td>\n",
              "      <td>0.0</td>\n",
              "      <td>0.0</td>\n",
              "      <td>0.0</td>\n",
              "      <td>0.0</td>\n",
              "      <td>0.0</td>\n",
              "      <td>0.0</td>\n",
              "      <td>0.0</td>\n",
              "      <td>0.0</td>\n",
              "      <td>0.0</td>\n",
              "      <td>0.0</td>\n",
              "      <td>0.0</td>\n",
              "      <td>0.0</td>\n",
              "      <td>0.0</td>\n",
              "      <td>0.0</td>\n",
              "      <td>0.0</td>\n",
              "      <td>0.0</td>\n",
              "    </tr>\n",
              "    <tr>\n",
              "      <th>1</th>\n",
              "      <td>2.0</td>\n",
              "      <td>Institut Teknologi Dan Bisnis STIKOM BALI Kamp...</td>\n",
              "      <td>0.0</td>\n",
              "      <td>1.0</td>\n",
              "      <td>0.0</td>\n",
              "      <td>0.0</td>\n",
              "      <td>0.0</td>\n",
              "      <td>0.0</td>\n",
              "      <td>0.0</td>\n",
              "      <td>0.0</td>\n",
              "      <td>0.0</td>\n",
              "      <td>0.0</td>\n",
              "      <td>0.0</td>\n",
              "      <td>0.0</td>\n",
              "      <td>5.0</td>\n",
              "      <td>94.0</td>\n",
              "      <td>0.0</td>\n",
              "      <td>0.0</td>\n",
              "      <td>5.0</td>\n",
              "      <td>0.0</td>\n",
              "      <td>1.0</td>\n",
              "      <td>3.0</td>\n",
              "      <td>12.0</td>\n",
              "      <td>16.0</td>\n",
              "      <td>35.0</td>\n",
              "      <td>2.0</td>\n",
              "      <td>1.0</td>\n",
              "      <td>29.0</td>\n",
              "      <td>10.0</td>\n",
              "      <td>9.0</td>\n",
              "      <td>136.0</td>\n",
              "      <td>120.0</td>\n",
              "      <td>279.0</td>\n",
              "      <td>217.0</td>\n",
              "      <td>19.0</td>\n",
              "      <td>130.0</td>\n",
              "      <td>102.0</td>\n",
              "      <td>105.0</td>\n",
              "      <td>67.0</td>\n",
              "      <td>97.0</td>\n",
              "      <td>94.0</td>\n",
              "      <td>55.0</td>\n",
              "      <td>127.0</td>\n",
              "      <td>116.0</td>\n",
              "      <td>110.0</td>\n",
              "      <td>118.0</td>\n",
              "      <td>173.0</td>\n",
              "      <td>119.0</td>\n",
              "      <td>41.0</td>\n",
              "      <td>121.0</td>\n",
              "      <td>39.0</td>\n",
              "      <td>35.0</td>\n",
              "      <td>140.0</td>\n",
              "      <td>109.0</td>\n",
              "      <td>65.0</td>\n",
              "      <td>41.0</td>\n",
              "      <td>133.0</td>\n",
              "      <td>128.0</td>\n",
              "      <td>83.0</td>\n",
              "      <td>89.0</td>\n",
              "      <td>87.0</td>\n",
              "      <td>55.0</td>\n",
              "      <td>28.0</td>\n",
              "    </tr>\n",
              "    <tr>\n",
              "      <th>2</th>\n",
              "      <td>3.0</td>\n",
              "      <td>Institut Teknologi Dan Bisnis STIKOM BALI Kamp...</td>\n",
              "      <td>0.0</td>\n",
              "      <td>1.0</td>\n",
              "      <td>0.0</td>\n",
              "      <td>0.0</td>\n",
              "      <td>0.0</td>\n",
              "      <td>0.0</td>\n",
              "      <td>0.0</td>\n",
              "      <td>0.0</td>\n",
              "      <td>0.0</td>\n",
              "      <td>0.0</td>\n",
              "      <td>0.0</td>\n",
              "      <td>0.0</td>\n",
              "      <td>0.0</td>\n",
              "      <td>0.0</td>\n",
              "      <td>0.0</td>\n",
              "      <td>0.0</td>\n",
              "      <td>0.0</td>\n",
              "      <td>0.0</td>\n",
              "      <td>0.0</td>\n",
              "      <td>0.0</td>\n",
              "      <td>0.0</td>\n",
              "      <td>0.0</td>\n",
              "      <td>0.0</td>\n",
              "      <td>0.0</td>\n",
              "      <td>0.0</td>\n",
              "      <td>0.0</td>\n",
              "      <td>0.0</td>\n",
              "      <td>0.0</td>\n",
              "      <td>0.0</td>\n",
              "      <td>0.0</td>\n",
              "      <td>0.0</td>\n",
              "      <td>0.0</td>\n",
              "      <td>0.0</td>\n",
              "      <td>0.0</td>\n",
              "      <td>0.0</td>\n",
              "      <td>0.0</td>\n",
              "      <td>0.0</td>\n",
              "      <td>0.0</td>\n",
              "      <td>0.0</td>\n",
              "      <td>0.0</td>\n",
              "      <td>0.0</td>\n",
              "      <td>0.0</td>\n",
              "      <td>0.0</td>\n",
              "      <td>0.0</td>\n",
              "      <td>0.0</td>\n",
              "      <td>0.0</td>\n",
              "      <td>0.0</td>\n",
              "      <td>0.0</td>\n",
              "      <td>0.0</td>\n",
              "      <td>0.0</td>\n",
              "      <td>0.0</td>\n",
              "      <td>0.0</td>\n",
              "      <td>0.0</td>\n",
              "      <td>0.0</td>\n",
              "      <td>0.0</td>\n",
              "      <td>0.0</td>\n",
              "      <td>0.0</td>\n",
              "      <td>0.0</td>\n",
              "      <td>0.0</td>\n",
              "      <td>0.0</td>\n",
              "      <td>0.0</td>\n",
              "    </tr>\n",
              "    <tr>\n",
              "      <th>3</th>\n",
              "      <td>4.0</td>\n",
              "      <td>Institut Teknologi Dan Bisnis STIKOM BALI Kamp...</td>\n",
              "      <td>0.0</td>\n",
              "      <td>1.0</td>\n",
              "      <td>0.0</td>\n",
              "      <td>0.0</td>\n",
              "      <td>0.0</td>\n",
              "      <td>0.0</td>\n",
              "      <td>0.0</td>\n",
              "      <td>0.0</td>\n",
              "      <td>0.0</td>\n",
              "      <td>0.0</td>\n",
              "      <td>0.0</td>\n",
              "      <td>0.0</td>\n",
              "      <td>0.0</td>\n",
              "      <td>0.0</td>\n",
              "      <td>0.0</td>\n",
              "      <td>0.0</td>\n",
              "      <td>0.0</td>\n",
              "      <td>0.0</td>\n",
              "      <td>0.0</td>\n",
              "      <td>0.0</td>\n",
              "      <td>0.0</td>\n",
              "      <td>0.0</td>\n",
              "      <td>0.0</td>\n",
              "      <td>0.0</td>\n",
              "      <td>0.0</td>\n",
              "      <td>0.0</td>\n",
              "      <td>0.0</td>\n",
              "      <td>0.0</td>\n",
              "      <td>0.0</td>\n",
              "      <td>0.0</td>\n",
              "      <td>0.0</td>\n",
              "      <td>0.0</td>\n",
              "      <td>0.0</td>\n",
              "      <td>0.0</td>\n",
              "      <td>0.0</td>\n",
              "      <td>0.0</td>\n",
              "      <td>0.0</td>\n",
              "      <td>0.0</td>\n",
              "      <td>0.0</td>\n",
              "      <td>0.0</td>\n",
              "      <td>0.0</td>\n",
              "      <td>0.0</td>\n",
              "      <td>0.0</td>\n",
              "      <td>0.0</td>\n",
              "      <td>0.0</td>\n",
              "      <td>0.0</td>\n",
              "      <td>0.0</td>\n",
              "      <td>0.0</td>\n",
              "      <td>0.0</td>\n",
              "      <td>0.0</td>\n",
              "      <td>0.0</td>\n",
              "      <td>0.0</td>\n",
              "      <td>0.0</td>\n",
              "      <td>0.0</td>\n",
              "      <td>0.0</td>\n",
              "      <td>0.0</td>\n",
              "      <td>0.0</td>\n",
              "      <td>0.0</td>\n",
              "      <td>0.0</td>\n",
              "      <td>0.0</td>\n",
              "      <td>0.0</td>\n",
              "    </tr>\n",
              "    <tr>\n",
              "      <th>4</th>\n",
              "      <td>5.0</td>\n",
              "      <td>Politeknik Nasional Denpasar (Polnas Denpasar)</td>\n",
              "      <td>0.0</td>\n",
              "      <td>1.0</td>\n",
              "      <td>0.0</td>\n",
              "      <td>0.0</td>\n",
              "      <td>0.0</td>\n",
              "      <td>0.0</td>\n",
              "      <td>0.0</td>\n",
              "      <td>0.0</td>\n",
              "      <td>0.0</td>\n",
              "      <td>0.0</td>\n",
              "      <td>0.0</td>\n",
              "      <td>0.0</td>\n",
              "      <td>0.0</td>\n",
              "      <td>0.0</td>\n",
              "      <td>0.0</td>\n",
              "      <td>0.0</td>\n",
              "      <td>0.0</td>\n",
              "      <td>0.0</td>\n",
              "      <td>0.0</td>\n",
              "      <td>0.0</td>\n",
              "      <td>0.0</td>\n",
              "      <td>0.0</td>\n",
              "      <td>0.0</td>\n",
              "      <td>0.0</td>\n",
              "      <td>2.0</td>\n",
              "      <td>0.0</td>\n",
              "      <td>0.0</td>\n",
              "      <td>2.0</td>\n",
              "      <td>1.0</td>\n",
              "      <td>0.0</td>\n",
              "      <td>0.0</td>\n",
              "      <td>0.0</td>\n",
              "      <td>0.0</td>\n",
              "      <td>0.0</td>\n",
              "      <td>0.0</td>\n",
              "      <td>0.0</td>\n",
              "      <td>0.0</td>\n",
              "      <td>0.0</td>\n",
              "      <td>1.0</td>\n",
              "      <td>0.0</td>\n",
              "      <td>0.0</td>\n",
              "      <td>0.0</td>\n",
              "      <td>0.0</td>\n",
              "      <td>0.0</td>\n",
              "      <td>0.0</td>\n",
              "      <td>0.0</td>\n",
              "      <td>0.0</td>\n",
              "      <td>0.0</td>\n",
              "      <td>0.0</td>\n",
              "      <td>0.0</td>\n",
              "      <td>0.0</td>\n",
              "      <td>0.0</td>\n",
              "      <td>0.0</td>\n",
              "      <td>0.0</td>\n",
              "      <td>0.0</td>\n",
              "      <td>0.0</td>\n",
              "      <td>0.0</td>\n",
              "      <td>0.0</td>\n",
              "      <td>0.0</td>\n",
              "      <td>0.0</td>\n",
              "      <td>0.0</td>\n",
              "    </tr>\n",
              "  </tbody>\n",
              "</table>\n",
              "</div>"
            ],
            "text/plain": [
              "    No  ... 10/31/2021\n",
              "0  1.0  ...        0.0\n",
              "1  2.0  ...       28.0\n",
              "2  3.0  ...        0.0\n",
              "3  4.0  ...        0.0\n",
              "4  5.0  ...        0.0\n",
              "\n",
              "[5 rows x 63 columns]"
            ]
          },
          "metadata": {},
          "execution_count": 4
        }
      ]
    },
    {
      "cell_type": "markdown",
      "metadata": {
        "id": "25f9e267"
      },
      "source": [
        "## Preprocessing Data"
      ],
      "id": "25f9e267"
    },
    {
      "cell_type": "code",
      "metadata": {
        "id": "fa05bafa",
        "colab": {
          "base_uri": "https://localhost:8080/"
        },
        "outputId": "15b4f433-5325-4154-d898-098bb67aef03"
      },
      "source": [
        "df.shape"
      ],
      "id": "fa05bafa",
      "execution_count": 5,
      "outputs": [
        {
          "output_type": "execute_result",
          "data": {
            "text/plain": [
              "(147, 63)"
            ]
          },
          "metadata": {},
          "execution_count": 5
        }
      ]
    },
    {
      "cell_type": "code",
      "metadata": {
        "id": "f1b962e9",
        "colab": {
          "base_uri": "https://localhost:8080/"
        },
        "outputId": "bfc21caa-c10f-421d-e0df-3f53e7189c03"
      },
      "source": [
        "df.info()"
      ],
      "id": "f1b962e9",
      "execution_count": 6,
      "outputs": [
        {
          "output_type": "stream",
          "name": "stdout",
          "text": [
            "<class 'pandas.core.frame.DataFrame'>\n",
            "RangeIndex: 147 entries, 0 to 146\n",
            "Data columns (total 63 columns):\n",
            " #   Column      Non-Null Count  Dtype  \n",
            "---  ------      --------------  -----  \n",
            " 0   No          146 non-null    float64\n",
            " 1   Tempat      146 non-null    object \n",
            " 2   9/1/2021    146 non-null    float64\n",
            " 3   9/2/2021    146 non-null    float64\n",
            " 4   9/3/2021    146 non-null    float64\n",
            " 5   9/4/2021    146 non-null    float64\n",
            " 6   9/5/2021    146 non-null    float64\n",
            " 7   9/6/2021    146 non-null    float64\n",
            " 8   9/7/2021    146 non-null    float64\n",
            " 9   9/8/2021    146 non-null    float64\n",
            " 10  9/9/2021    146 non-null    float64\n",
            " 11  9/10/2021   146 non-null    float64\n",
            " 12  9/11/2021   146 non-null    float64\n",
            " 13  9/12/2021   146 non-null    float64\n",
            " 14  9/13/2021   146 non-null    float64\n",
            " 15  9/14/2021   146 non-null    float64\n",
            " 16  9/15/2021   146 non-null    float64\n",
            " 17  9/16/2021   146 non-null    float64\n",
            " 18  9/17/2021   146 non-null    float64\n",
            " 19  9/18/2021   146 non-null    float64\n",
            " 20  9/19/2021   146 non-null    float64\n",
            " 21  9/20/2021   146 non-null    float64\n",
            " 22  9/21/2021   146 non-null    float64\n",
            " 23  9/22/2021   146 non-null    float64\n",
            " 24  9/23/2021   146 non-null    float64\n",
            " 25  9/24/2021   146 non-null    float64\n",
            " 26  9/25/2021   146 non-null    float64\n",
            " 27  9/26/2021   146 non-null    float64\n",
            " 28  9/27/2021   146 non-null    float64\n",
            " 29  9/28/2021   146 non-null    float64\n",
            " 30  9/29/2021   146 non-null    float64\n",
            " 31  9/30/2021   146 non-null    float64\n",
            " 32  10/1/2021   146 non-null    float64\n",
            " 33  10/2/2021   146 non-null    float64\n",
            " 34  10/3/2021   146 non-null    float64\n",
            " 35  10/4/2021   146 non-null    float64\n",
            " 36  10/5/2021   146 non-null    float64\n",
            " 37  10/6/2021   146 non-null    float64\n",
            " 38  10/7/2021   146 non-null    float64\n",
            " 39  10/8/2021   146 non-null    float64\n",
            " 40  10/9/2021   146 non-null    float64\n",
            " 41  10/10/2021  146 non-null    float64\n",
            " 42  10/11/2021  146 non-null    float64\n",
            " 43  10/12/2021  146 non-null    float64\n",
            " 44  10/13/2021  146 non-null    float64\n",
            " 45  10/14/2021  146 non-null    float64\n",
            " 46  10/15/2021  146 non-null    float64\n",
            " 47  10/16/2021  146 non-null    float64\n",
            " 48  10/17/2021  146 non-null    float64\n",
            " 49  10/18/2021  146 non-null    float64\n",
            " 50  10/19/2021  146 non-null    float64\n",
            " 51  10/20/2021  146 non-null    float64\n",
            " 52  10/21/2021  146 non-null    float64\n",
            " 53  10/22/2021  146 non-null    float64\n",
            " 54  10/23/2021  146 non-null    float64\n",
            " 55  10/24/2021  146 non-null    float64\n",
            " 56  10/25/2021  145 non-null    float64\n",
            " 57  10/26/2021  146 non-null    float64\n",
            " 58  10/27/2021  146 non-null    float64\n",
            " 59  10/28/2021  146 non-null    float64\n",
            " 60  10/29/2021  146 non-null    float64\n",
            " 61  10/30/2021  146 non-null    float64\n",
            " 62  10/31/2021  146 non-null    float64\n",
            "dtypes: float64(62), object(1)\n",
            "memory usage: 72.5+ KB\n"
          ]
        }
      ]
    },
    {
      "cell_type": "code",
      "metadata": {
        "id": "d752895e",
        "colab": {
          "base_uri": "https://localhost:8080/",
          "height": 573
        },
        "outputId": "39aa2093-1c36-4875-f8b9-97d8162fb295"
      },
      "source": [
        "df.drop('No', axis=1, inplace=True)\n",
        "df.head()"
      ],
      "id": "d752895e",
      "execution_count": 7,
      "outputs": [
        {
          "output_type": "execute_result",
          "data": {
            "text/html": [
              "<div>\n",
              "<style scoped>\n",
              "    .dataframe tbody tr th:only-of-type {\n",
              "        vertical-align: middle;\n",
              "    }\n",
              "\n",
              "    .dataframe tbody tr th {\n",
              "        vertical-align: top;\n",
              "    }\n",
              "\n",
              "    .dataframe thead th {\n",
              "        text-align: right;\n",
              "    }\n",
              "</style>\n",
              "<table border=\"1\" class=\"dataframe\">\n",
              "  <thead>\n",
              "    <tr style=\"text-align: right;\">\n",
              "      <th></th>\n",
              "      <th>Tempat</th>\n",
              "      <th>9/1/2021</th>\n",
              "      <th>9/2/2021</th>\n",
              "      <th>9/3/2021</th>\n",
              "      <th>9/4/2021</th>\n",
              "      <th>9/5/2021</th>\n",
              "      <th>9/6/2021</th>\n",
              "      <th>9/7/2021</th>\n",
              "      <th>9/8/2021</th>\n",
              "      <th>9/9/2021</th>\n",
              "      <th>9/10/2021</th>\n",
              "      <th>9/11/2021</th>\n",
              "      <th>9/12/2021</th>\n",
              "      <th>9/13/2021</th>\n",
              "      <th>9/14/2021</th>\n",
              "      <th>9/15/2021</th>\n",
              "      <th>9/16/2021</th>\n",
              "      <th>9/17/2021</th>\n",
              "      <th>9/18/2021</th>\n",
              "      <th>9/19/2021</th>\n",
              "      <th>9/20/2021</th>\n",
              "      <th>9/21/2021</th>\n",
              "      <th>9/22/2021</th>\n",
              "      <th>9/23/2021</th>\n",
              "      <th>9/24/2021</th>\n",
              "      <th>9/25/2021</th>\n",
              "      <th>9/26/2021</th>\n",
              "      <th>9/27/2021</th>\n",
              "      <th>9/28/2021</th>\n",
              "      <th>9/29/2021</th>\n",
              "      <th>9/30/2021</th>\n",
              "      <th>10/1/2021</th>\n",
              "      <th>10/2/2021</th>\n",
              "      <th>10/3/2021</th>\n",
              "      <th>10/4/2021</th>\n",
              "      <th>10/5/2021</th>\n",
              "      <th>10/6/2021</th>\n",
              "      <th>10/7/2021</th>\n",
              "      <th>10/8/2021</th>\n",
              "      <th>10/9/2021</th>\n",
              "      <th>10/10/2021</th>\n",
              "      <th>10/11/2021</th>\n",
              "      <th>10/12/2021</th>\n",
              "      <th>10/13/2021</th>\n",
              "      <th>10/14/2021</th>\n",
              "      <th>10/15/2021</th>\n",
              "      <th>10/16/2021</th>\n",
              "      <th>10/17/2021</th>\n",
              "      <th>10/18/2021</th>\n",
              "      <th>10/19/2021</th>\n",
              "      <th>10/20/2021</th>\n",
              "      <th>10/21/2021</th>\n",
              "      <th>10/22/2021</th>\n",
              "      <th>10/23/2021</th>\n",
              "      <th>10/24/2021</th>\n",
              "      <th>10/25/2021</th>\n",
              "      <th>10/26/2021</th>\n",
              "      <th>10/27/2021</th>\n",
              "      <th>10/28/2021</th>\n",
              "      <th>10/29/2021</th>\n",
              "      <th>10/30/2021</th>\n",
              "      <th>10/31/2021</th>\n",
              "    </tr>\n",
              "  </thead>\n",
              "  <tbody>\n",
              "    <tr>\n",
              "      <th>0</th>\n",
              "      <td>Banjar Mertanadhi</td>\n",
              "      <td>0.0</td>\n",
              "      <td>0.0</td>\n",
              "      <td>0.0</td>\n",
              "      <td>0.0</td>\n",
              "      <td>0.0</td>\n",
              "      <td>0.0</td>\n",
              "      <td>0.0</td>\n",
              "      <td>0.0</td>\n",
              "      <td>0.0</td>\n",
              "      <td>0.0</td>\n",
              "      <td>0.0</td>\n",
              "      <td>0.0</td>\n",
              "      <td>0.0</td>\n",
              "      <td>0.0</td>\n",
              "      <td>0.0</td>\n",
              "      <td>0.0</td>\n",
              "      <td>0.0</td>\n",
              "      <td>0.0</td>\n",
              "      <td>0.0</td>\n",
              "      <td>0.0</td>\n",
              "      <td>0.0</td>\n",
              "      <td>0.0</td>\n",
              "      <td>0.0</td>\n",
              "      <td>0.0</td>\n",
              "      <td>0.0</td>\n",
              "      <td>0.0</td>\n",
              "      <td>0.0</td>\n",
              "      <td>0.0</td>\n",
              "      <td>0.0</td>\n",
              "      <td>0.0</td>\n",
              "      <td>0.0</td>\n",
              "      <td>0.0</td>\n",
              "      <td>0.0</td>\n",
              "      <td>0.0</td>\n",
              "      <td>0.0</td>\n",
              "      <td>0.0</td>\n",
              "      <td>0.0</td>\n",
              "      <td>0.0</td>\n",
              "      <td>0.0</td>\n",
              "      <td>0.0</td>\n",
              "      <td>0.0</td>\n",
              "      <td>0.0</td>\n",
              "      <td>0.0</td>\n",
              "      <td>0.0</td>\n",
              "      <td>0.0</td>\n",
              "      <td>0.0</td>\n",
              "      <td>0.0</td>\n",
              "      <td>0.0</td>\n",
              "      <td>0.0</td>\n",
              "      <td>0.0</td>\n",
              "      <td>0.0</td>\n",
              "      <td>0.0</td>\n",
              "      <td>0.0</td>\n",
              "      <td>0.0</td>\n",
              "      <td>0.0</td>\n",
              "      <td>0.0</td>\n",
              "      <td>0.0</td>\n",
              "      <td>0.0</td>\n",
              "      <td>0.0</td>\n",
              "      <td>0.0</td>\n",
              "      <td>0.0</td>\n",
              "    </tr>\n",
              "    <tr>\n",
              "      <th>1</th>\n",
              "      <td>Institut Teknologi Dan Bisnis STIKOM BALI Kamp...</td>\n",
              "      <td>0.0</td>\n",
              "      <td>1.0</td>\n",
              "      <td>0.0</td>\n",
              "      <td>0.0</td>\n",
              "      <td>0.0</td>\n",
              "      <td>0.0</td>\n",
              "      <td>0.0</td>\n",
              "      <td>0.0</td>\n",
              "      <td>0.0</td>\n",
              "      <td>0.0</td>\n",
              "      <td>0.0</td>\n",
              "      <td>0.0</td>\n",
              "      <td>5.0</td>\n",
              "      <td>94.0</td>\n",
              "      <td>0.0</td>\n",
              "      <td>0.0</td>\n",
              "      <td>5.0</td>\n",
              "      <td>0.0</td>\n",
              "      <td>1.0</td>\n",
              "      <td>3.0</td>\n",
              "      <td>12.0</td>\n",
              "      <td>16.0</td>\n",
              "      <td>35.0</td>\n",
              "      <td>2.0</td>\n",
              "      <td>1.0</td>\n",
              "      <td>29.0</td>\n",
              "      <td>10.0</td>\n",
              "      <td>9.0</td>\n",
              "      <td>136.0</td>\n",
              "      <td>120.0</td>\n",
              "      <td>279.0</td>\n",
              "      <td>217.0</td>\n",
              "      <td>19.0</td>\n",
              "      <td>130.0</td>\n",
              "      <td>102.0</td>\n",
              "      <td>105.0</td>\n",
              "      <td>67.0</td>\n",
              "      <td>97.0</td>\n",
              "      <td>94.0</td>\n",
              "      <td>55.0</td>\n",
              "      <td>127.0</td>\n",
              "      <td>116.0</td>\n",
              "      <td>110.0</td>\n",
              "      <td>118.0</td>\n",
              "      <td>173.0</td>\n",
              "      <td>119.0</td>\n",
              "      <td>41.0</td>\n",
              "      <td>121.0</td>\n",
              "      <td>39.0</td>\n",
              "      <td>35.0</td>\n",
              "      <td>140.0</td>\n",
              "      <td>109.0</td>\n",
              "      <td>65.0</td>\n",
              "      <td>41.0</td>\n",
              "      <td>133.0</td>\n",
              "      <td>128.0</td>\n",
              "      <td>83.0</td>\n",
              "      <td>89.0</td>\n",
              "      <td>87.0</td>\n",
              "      <td>55.0</td>\n",
              "      <td>28.0</td>\n",
              "    </tr>\n",
              "    <tr>\n",
              "      <th>2</th>\n",
              "      <td>Institut Teknologi Dan Bisnis STIKOM BALI Kamp...</td>\n",
              "      <td>0.0</td>\n",
              "      <td>1.0</td>\n",
              "      <td>0.0</td>\n",
              "      <td>0.0</td>\n",
              "      <td>0.0</td>\n",
              "      <td>0.0</td>\n",
              "      <td>0.0</td>\n",
              "      <td>0.0</td>\n",
              "      <td>0.0</td>\n",
              "      <td>0.0</td>\n",
              "      <td>0.0</td>\n",
              "      <td>0.0</td>\n",
              "      <td>0.0</td>\n",
              "      <td>0.0</td>\n",
              "      <td>0.0</td>\n",
              "      <td>0.0</td>\n",
              "      <td>0.0</td>\n",
              "      <td>0.0</td>\n",
              "      <td>0.0</td>\n",
              "      <td>0.0</td>\n",
              "      <td>0.0</td>\n",
              "      <td>0.0</td>\n",
              "      <td>0.0</td>\n",
              "      <td>0.0</td>\n",
              "      <td>0.0</td>\n",
              "      <td>0.0</td>\n",
              "      <td>0.0</td>\n",
              "      <td>0.0</td>\n",
              "      <td>0.0</td>\n",
              "      <td>0.0</td>\n",
              "      <td>0.0</td>\n",
              "      <td>0.0</td>\n",
              "      <td>0.0</td>\n",
              "      <td>0.0</td>\n",
              "      <td>0.0</td>\n",
              "      <td>0.0</td>\n",
              "      <td>0.0</td>\n",
              "      <td>0.0</td>\n",
              "      <td>0.0</td>\n",
              "      <td>0.0</td>\n",
              "      <td>0.0</td>\n",
              "      <td>0.0</td>\n",
              "      <td>0.0</td>\n",
              "      <td>0.0</td>\n",
              "      <td>0.0</td>\n",
              "      <td>0.0</td>\n",
              "      <td>0.0</td>\n",
              "      <td>0.0</td>\n",
              "      <td>0.0</td>\n",
              "      <td>0.0</td>\n",
              "      <td>0.0</td>\n",
              "      <td>0.0</td>\n",
              "      <td>0.0</td>\n",
              "      <td>0.0</td>\n",
              "      <td>0.0</td>\n",
              "      <td>0.0</td>\n",
              "      <td>0.0</td>\n",
              "      <td>0.0</td>\n",
              "      <td>0.0</td>\n",
              "      <td>0.0</td>\n",
              "      <td>0.0</td>\n",
              "    </tr>\n",
              "    <tr>\n",
              "      <th>3</th>\n",
              "      <td>Institut Teknologi Dan Bisnis STIKOM BALI Kamp...</td>\n",
              "      <td>0.0</td>\n",
              "      <td>1.0</td>\n",
              "      <td>0.0</td>\n",
              "      <td>0.0</td>\n",
              "      <td>0.0</td>\n",
              "      <td>0.0</td>\n",
              "      <td>0.0</td>\n",
              "      <td>0.0</td>\n",
              "      <td>0.0</td>\n",
              "      <td>0.0</td>\n",
              "      <td>0.0</td>\n",
              "      <td>0.0</td>\n",
              "      <td>0.0</td>\n",
              "      <td>0.0</td>\n",
              "      <td>0.0</td>\n",
              "      <td>0.0</td>\n",
              "      <td>0.0</td>\n",
              "      <td>0.0</td>\n",
              "      <td>0.0</td>\n",
              "      <td>0.0</td>\n",
              "      <td>0.0</td>\n",
              "      <td>0.0</td>\n",
              "      <td>0.0</td>\n",
              "      <td>0.0</td>\n",
              "      <td>0.0</td>\n",
              "      <td>0.0</td>\n",
              "      <td>0.0</td>\n",
              "      <td>0.0</td>\n",
              "      <td>0.0</td>\n",
              "      <td>0.0</td>\n",
              "      <td>0.0</td>\n",
              "      <td>0.0</td>\n",
              "      <td>0.0</td>\n",
              "      <td>0.0</td>\n",
              "      <td>0.0</td>\n",
              "      <td>0.0</td>\n",
              "      <td>0.0</td>\n",
              "      <td>0.0</td>\n",
              "      <td>0.0</td>\n",
              "      <td>0.0</td>\n",
              "      <td>0.0</td>\n",
              "      <td>0.0</td>\n",
              "      <td>0.0</td>\n",
              "      <td>0.0</td>\n",
              "      <td>0.0</td>\n",
              "      <td>0.0</td>\n",
              "      <td>0.0</td>\n",
              "      <td>0.0</td>\n",
              "      <td>0.0</td>\n",
              "      <td>0.0</td>\n",
              "      <td>0.0</td>\n",
              "      <td>0.0</td>\n",
              "      <td>0.0</td>\n",
              "      <td>0.0</td>\n",
              "      <td>0.0</td>\n",
              "      <td>0.0</td>\n",
              "      <td>0.0</td>\n",
              "      <td>0.0</td>\n",
              "      <td>0.0</td>\n",
              "      <td>0.0</td>\n",
              "      <td>0.0</td>\n",
              "    </tr>\n",
              "    <tr>\n",
              "      <th>4</th>\n",
              "      <td>Politeknik Nasional Denpasar (Polnas Denpasar)</td>\n",
              "      <td>0.0</td>\n",
              "      <td>1.0</td>\n",
              "      <td>0.0</td>\n",
              "      <td>0.0</td>\n",
              "      <td>0.0</td>\n",
              "      <td>0.0</td>\n",
              "      <td>0.0</td>\n",
              "      <td>0.0</td>\n",
              "      <td>0.0</td>\n",
              "      <td>0.0</td>\n",
              "      <td>0.0</td>\n",
              "      <td>0.0</td>\n",
              "      <td>0.0</td>\n",
              "      <td>0.0</td>\n",
              "      <td>0.0</td>\n",
              "      <td>0.0</td>\n",
              "      <td>0.0</td>\n",
              "      <td>0.0</td>\n",
              "      <td>0.0</td>\n",
              "      <td>0.0</td>\n",
              "      <td>0.0</td>\n",
              "      <td>0.0</td>\n",
              "      <td>0.0</td>\n",
              "      <td>0.0</td>\n",
              "      <td>2.0</td>\n",
              "      <td>0.0</td>\n",
              "      <td>0.0</td>\n",
              "      <td>2.0</td>\n",
              "      <td>1.0</td>\n",
              "      <td>0.0</td>\n",
              "      <td>0.0</td>\n",
              "      <td>0.0</td>\n",
              "      <td>0.0</td>\n",
              "      <td>0.0</td>\n",
              "      <td>0.0</td>\n",
              "      <td>0.0</td>\n",
              "      <td>0.0</td>\n",
              "      <td>0.0</td>\n",
              "      <td>1.0</td>\n",
              "      <td>0.0</td>\n",
              "      <td>0.0</td>\n",
              "      <td>0.0</td>\n",
              "      <td>0.0</td>\n",
              "      <td>0.0</td>\n",
              "      <td>0.0</td>\n",
              "      <td>0.0</td>\n",
              "      <td>0.0</td>\n",
              "      <td>0.0</td>\n",
              "      <td>0.0</td>\n",
              "      <td>0.0</td>\n",
              "      <td>0.0</td>\n",
              "      <td>0.0</td>\n",
              "      <td>0.0</td>\n",
              "      <td>0.0</td>\n",
              "      <td>0.0</td>\n",
              "      <td>0.0</td>\n",
              "      <td>0.0</td>\n",
              "      <td>0.0</td>\n",
              "      <td>0.0</td>\n",
              "      <td>0.0</td>\n",
              "      <td>0.0</td>\n",
              "    </tr>\n",
              "  </tbody>\n",
              "</table>\n",
              "</div>"
            ],
            "text/plain": [
              "                                              Tempat  ...  10/31/2021\n",
              "0                                  Banjar Mertanadhi  ...         0.0\n",
              "1  Institut Teknologi Dan Bisnis STIKOM BALI Kamp...  ...        28.0\n",
              "2  Institut Teknologi Dan Bisnis STIKOM BALI Kamp...  ...         0.0\n",
              "3  Institut Teknologi Dan Bisnis STIKOM BALI Kamp...  ...         0.0\n",
              "4     Politeknik Nasional Denpasar (Polnas Denpasar)  ...         0.0\n",
              "\n",
              "[5 rows x 62 columns]"
            ]
          },
          "metadata": {},
          "execution_count": 7
        }
      ]
    },
    {
      "cell_type": "code",
      "metadata": {
        "id": "496bce9b",
        "colab": {
          "base_uri": "https://localhost:8080/",
          "height": 206
        },
        "outputId": "dca55832-32eb-43f7-be28-56e36ab877fb"
      },
      "source": [
        "df = df.melt(id_vars=['Tempat'], var_name='Tanggal', value_name='Jumlah')\n",
        "df.head()"
      ],
      "id": "496bce9b",
      "execution_count": 8,
      "outputs": [
        {
          "output_type": "execute_result",
          "data": {
            "text/html": [
              "<div>\n",
              "<style scoped>\n",
              "    .dataframe tbody tr th:only-of-type {\n",
              "        vertical-align: middle;\n",
              "    }\n",
              "\n",
              "    .dataframe tbody tr th {\n",
              "        vertical-align: top;\n",
              "    }\n",
              "\n",
              "    .dataframe thead th {\n",
              "        text-align: right;\n",
              "    }\n",
              "</style>\n",
              "<table border=\"1\" class=\"dataframe\">\n",
              "  <thead>\n",
              "    <tr style=\"text-align: right;\">\n",
              "      <th></th>\n",
              "      <th>Tempat</th>\n",
              "      <th>Tanggal</th>\n",
              "      <th>Jumlah</th>\n",
              "    </tr>\n",
              "  </thead>\n",
              "  <tbody>\n",
              "    <tr>\n",
              "      <th>0</th>\n",
              "      <td>Banjar Mertanadhi</td>\n",
              "      <td>9/1/2021</td>\n",
              "      <td>0.0</td>\n",
              "    </tr>\n",
              "    <tr>\n",
              "      <th>1</th>\n",
              "      <td>Institut Teknologi Dan Bisnis STIKOM BALI Kamp...</td>\n",
              "      <td>9/1/2021</td>\n",
              "      <td>0.0</td>\n",
              "    </tr>\n",
              "    <tr>\n",
              "      <th>2</th>\n",
              "      <td>Institut Teknologi Dan Bisnis STIKOM BALI Kamp...</td>\n",
              "      <td>9/1/2021</td>\n",
              "      <td>0.0</td>\n",
              "    </tr>\n",
              "    <tr>\n",
              "      <th>3</th>\n",
              "      <td>Institut Teknologi Dan Bisnis STIKOM BALI Kamp...</td>\n",
              "      <td>9/1/2021</td>\n",
              "      <td>0.0</td>\n",
              "    </tr>\n",
              "    <tr>\n",
              "      <th>4</th>\n",
              "      <td>Politeknik Nasional Denpasar (Polnas Denpasar)</td>\n",
              "      <td>9/1/2021</td>\n",
              "      <td>0.0</td>\n",
              "    </tr>\n",
              "  </tbody>\n",
              "</table>\n",
              "</div>"
            ],
            "text/plain": [
              "                                              Tempat   Tanggal  Jumlah\n",
              "0                                  Banjar Mertanadhi  9/1/2021     0.0\n",
              "1  Institut Teknologi Dan Bisnis STIKOM BALI Kamp...  9/1/2021     0.0\n",
              "2  Institut Teknologi Dan Bisnis STIKOM BALI Kamp...  9/1/2021     0.0\n",
              "3  Institut Teknologi Dan Bisnis STIKOM BALI Kamp...  9/1/2021     0.0\n",
              "4     Politeknik Nasional Denpasar (Polnas Denpasar)  9/1/2021     0.0"
            ]
          },
          "metadata": {},
          "execution_count": 8
        }
      ]
    },
    {
      "cell_type": "code",
      "metadata": {
        "id": "91c586cd",
        "colab": {
          "base_uri": "https://localhost:8080/"
        },
        "outputId": "5469b545-8e3d-40b6-9850-21e0e86e525b"
      },
      "source": [
        "df.info()"
      ],
      "id": "91c586cd",
      "execution_count": 9,
      "outputs": [
        {
          "output_type": "stream",
          "name": "stdout",
          "text": [
            "<class 'pandas.core.frame.DataFrame'>\n",
            "RangeIndex: 8967 entries, 0 to 8966\n",
            "Data columns (total 3 columns):\n",
            " #   Column   Non-Null Count  Dtype  \n",
            "---  ------   --------------  -----  \n",
            " 0   Tempat   8906 non-null   object \n",
            " 1   Tanggal  8967 non-null   object \n",
            " 2   Jumlah   8905 non-null   float64\n",
            "dtypes: float64(1), object(2)\n",
            "memory usage: 210.3+ KB\n"
          ]
        }
      ]
    },
    {
      "cell_type": "code",
      "metadata": {
        "id": "12fd31ed"
      },
      "source": [
        "df['Tanggal'] = pd.to_datetime(df['Tanggal'])"
      ],
      "id": "12fd31ed",
      "execution_count": 10,
      "outputs": []
    },
    {
      "cell_type": "code",
      "metadata": {
        "colab": {
          "base_uri": "https://localhost:8080/"
        },
        "id": "NwNMpO0FRoLP",
        "outputId": "afeb40f4-5e53-48e3-936a-0e6dda5e3dbe"
      },
      "source": [
        "df.isnull().sum()"
      ],
      "id": "NwNMpO0FRoLP",
      "execution_count": 11,
      "outputs": [
        {
          "output_type": "execute_result",
          "data": {
            "text/plain": [
              "Tempat     61\n",
              "Tanggal     0\n",
              "Jumlah     62\n",
              "dtype: int64"
            ]
          },
          "metadata": {},
          "execution_count": 11
        }
      ]
    },
    {
      "cell_type": "code",
      "metadata": {
        "colab": {
          "base_uri": "https://localhost:8080/"
        },
        "id": "-j6Kex5uTEIx",
        "outputId": "3afe0ed2-ba5e-4e64-f386-5876e1d2853c"
      },
      "source": [
        "df = df.dropna()\n",
        "df.shape"
      ],
      "id": "-j6Kex5uTEIx",
      "execution_count": 12,
      "outputs": [
        {
          "output_type": "execute_result",
          "data": {
            "text/plain": [
              "(8905, 3)"
            ]
          },
          "metadata": {},
          "execution_count": 12
        }
      ]
    },
    {
      "cell_type": "code",
      "metadata": {
        "id": "b25810b4",
        "colab": {
          "base_uri": "https://localhost:8080/",
          "height": 206
        },
        "outputId": "f15ef99e-c7c2-4231-d087-0262c994fbea"
      },
      "source": [
        "df_total = df.groupby('Tempat')['Jumlah'].sum()\n",
        "df_total = df_total.to_frame().reset_index()\n",
        "df_total.head()"
      ],
      "id": "b25810b4",
      "execution_count": 13,
      "outputs": [
        {
          "output_type": "execute_result",
          "data": {
            "text/html": [
              "<div>\n",
              "<style scoped>\n",
              "    .dataframe tbody tr th:only-of-type {\n",
              "        vertical-align: middle;\n",
              "    }\n",
              "\n",
              "    .dataframe tbody tr th {\n",
              "        vertical-align: top;\n",
              "    }\n",
              "\n",
              "    .dataframe thead th {\n",
              "        text-align: right;\n",
              "    }\n",
              "</style>\n",
              "<table border=\"1\" class=\"dataframe\">\n",
              "  <thead>\n",
              "    <tr style=\"text-align: right;\">\n",
              "      <th></th>\n",
              "      <th>Tempat</th>\n",
              "      <th>Jumlah</th>\n",
              "    </tr>\n",
              "  </thead>\n",
              "  <tbody>\n",
              "    <tr>\n",
              "      <th>0</th>\n",
              "      <td>BPRS Fajar Sejahtera Bali</td>\n",
              "      <td>1.0</td>\n",
              "    </tr>\n",
              "    <tr>\n",
              "      <th>1</th>\n",
              "      <td>Bali Post</td>\n",
              "      <td>3.0</td>\n",
              "    </tr>\n",
              "    <tr>\n",
              "      <th>2</th>\n",
              "      <td>Banjar Alangkajeng Gede</td>\n",
              "      <td>3.0</td>\n",
              "    </tr>\n",
              "    <tr>\n",
              "      <th>3</th>\n",
              "      <td>Banjar Alangkajeng Menak</td>\n",
              "      <td>2.0</td>\n",
              "    </tr>\n",
              "    <tr>\n",
              "      <th>4</th>\n",
              "      <td>Banjar Busung Yeh Kangin</td>\n",
              "      <td>1.0</td>\n",
              "    </tr>\n",
              "  </tbody>\n",
              "</table>\n",
              "</div>"
            ],
            "text/plain": [
              "                      Tempat  Jumlah\n",
              "0  BPRS Fajar Sejahtera Bali     1.0\n",
              "1                  Bali Post     3.0\n",
              "2    Banjar Alangkajeng Gede     3.0\n",
              "3   Banjar Alangkajeng Menak     2.0\n",
              "4   Banjar Busung Yeh Kangin     1.0"
            ]
          },
          "metadata": {},
          "execution_count": 13
        }
      ]
    },
    {
      "cell_type": "code",
      "metadata": {
        "colab": {
          "base_uri": "https://localhost:8080/"
        },
        "id": "iAhX_hD7TAfi",
        "outputId": "13897757-edab-49db-e924-50cdc32bc860"
      },
      "source": [
        "df_total.shape"
      ],
      "id": "iAhX_hD7TAfi",
      "execution_count": 14,
      "outputs": [
        {
          "output_type": "execute_result",
          "data": {
            "text/plain": [
              "(146, 2)"
            ]
          },
          "metadata": {},
          "execution_count": 14
        }
      ]
    },
    {
      "cell_type": "code",
      "metadata": {
        "id": "d2351cae"
      },
      "source": [
        "df_total.index = df_total['Tempat']\n",
        "df_total = df_total.drop(['Tempat'], axis=1)"
      ],
      "id": "d2351cae",
      "execution_count": 15,
      "outputs": []
    },
    {
      "cell_type": "code",
      "metadata": {
        "colab": {
          "base_uri": "https://localhost:8080/"
        },
        "id": "2VXEAn0Q_xXX",
        "outputId": "31ce875f-dacf-4105-ba19-37e7453559a3"
      },
      "source": [
        "df_total.shape"
      ],
      "id": "2VXEAn0Q_xXX",
      "execution_count": 16,
      "outputs": [
        {
          "output_type": "execute_result",
          "data": {
            "text/plain": [
              "(146, 1)"
            ]
          },
          "metadata": {},
          "execution_count": 16
        }
      ]
    },
    {
      "cell_type": "code",
      "metadata": {
        "id": "14b188fc"
      },
      "source": [
        "def topcase(tipe, warna):\n",
        "    plt.axes(axisbelow=True)\n",
        "    plt.barh(\n",
        "        df_total.sort_values(tipe)[tipe].index[-10:],\n",
        "        df_total.sort_values(tipe)[tipe].values[-10:],\n",
        "        color=warna)\n",
        "    plt.tick_params(size=5,labelsize = 13)\n",
        "    plt.xlabel(tipe + \" Mobilitas\",fontsize=18)\n",
        "    plt.title(\"10 Tempat Dengan Mobilitas Tinggi\",fontsize=20)\n",
        "    plt.grid()\n",
        "    plt.show()"
      ],
      "id": "14b188fc",
      "execution_count": 17,
      "outputs": []
    },
    {
      "cell_type": "code",
      "metadata": {
        "id": "cb1e17b7",
        "colab": {
          "base_uri": "https://localhost:8080/",
          "height": 313
        },
        "outputId": "3ef0a8bb-378b-4e06-8570-2dbd05b03c70"
      },
      "source": [
        "topcase('Jumlah','darkcyan')"
      ],
      "id": "cb1e17b7",
      "execution_count": 18,
      "outputs": [
        {
          "output_type": "display_data",
          "data": {
            "image/png": "[encoded data removed]",
            "text/plain": [
              "<Figure size 432x288 with 1 Axes>"
            ]
          },
          "metadata": {
            "needs_background": "light"
          }
        }
      ]
    },
    {
      "cell_type": "code",
      "metadata": {
        "id": "e3b0a19f",
        "colab": {
          "base_uri": "https://localhost:8080/",
          "height": 206
        },
        "outputId": "d212fff4-b044-4eae-c004-519aaca9c100"
      },
      "source": [
        "df_final = df.groupby('Tanggal')['Jumlah'].sum()\n",
        "df_final = df_final.to_frame().reset_index()\n",
        "df_final.head()"
      ],
      "id": "e3b0a19f",
      "execution_count": 19,
      "outputs": [
        {
          "output_type": "execute_result",
          "data": {
            "text/html": [
              "<div>\n",
              "<style scoped>\n",
              "    .dataframe tbody tr th:only-of-type {\n",
              "        vertical-align: middle;\n",
              "    }\n",
              "\n",
              "    .dataframe tbody tr th {\n",
              "        vertical-align: top;\n",
              "    }\n",
              "\n",
              "    .dataframe thead th {\n",
              "        text-align: right;\n",
              "    }\n",
              "</style>\n",
              "<table border=\"1\" class=\"dataframe\">\n",
              "  <thead>\n",
              "    <tr style=\"text-align: right;\">\n",
              "      <th></th>\n",
              "      <th>Tanggal</th>\n",
              "      <th>Jumlah</th>\n",
              "    </tr>\n",
              "  </thead>\n",
              "  <tbody>\n",
              "    <tr>\n",
              "      <th>0</th>\n",
              "      <td>2021-09-01</td>\n",
              "      <td>0.0</td>\n",
              "    </tr>\n",
              "    <tr>\n",
              "      <th>1</th>\n",
              "      <td>2021-09-02</td>\n",
              "      <td>9.0</td>\n",
              "    </tr>\n",
              "    <tr>\n",
              "      <th>2</th>\n",
              "      <td>2021-09-03</td>\n",
              "      <td>9.0</td>\n",
              "    </tr>\n",
              "    <tr>\n",
              "      <th>3</th>\n",
              "      <td>2021-09-04</td>\n",
              "      <td>2.0</td>\n",
              "    </tr>\n",
              "    <tr>\n",
              "      <th>4</th>\n",
              "      <td>2021-09-05</td>\n",
              "      <td>17.0</td>\n",
              "    </tr>\n",
              "  </tbody>\n",
              "</table>\n",
              "</div>"
            ],
            "text/plain": [
              "     Tanggal  Jumlah\n",
              "0 2021-09-01     0.0\n",
              "1 2021-09-02     9.0\n",
              "2 2021-09-03     9.0\n",
              "3 2021-09-04     2.0\n",
              "4 2021-09-05    17.0"
            ]
          },
          "metadata": {},
          "execution_count": 19
        }
      ]
    },
    {
      "cell_type": "code",
      "metadata": {
        "colab": {
          "base_uri": "https://localhost:8080/"
        },
        "id": "_Wdr2mfnTMhd",
        "outputId": "3ec9bd2b-9e13-4ef9-b846-5941589a4be2"
      },
      "source": [
        "df_final.info()"
      ],
      "id": "_Wdr2mfnTMhd",
      "execution_count": 20,
      "outputs": [
        {
          "output_type": "stream",
          "name": "stdout",
          "text": [
            "<class 'pandas.core.frame.DataFrame'>\n",
            "RangeIndex: 61 entries, 0 to 60\n",
            "Data columns (total 2 columns):\n",
            " #   Column   Non-Null Count  Dtype         \n",
            "---  ------   --------------  -----         \n",
            " 0   Tanggal  61 non-null     datetime64[ns]\n",
            " 1   Jumlah   61 non-null     float64       \n",
            "dtypes: datetime64[ns](1), float64(1)\n",
            "memory usage: 1.1 KB\n"
          ]
        }
      ]
    },
    {
      "cell_type": "code",
      "metadata": {
        "id": "196a58f1",
        "colab": {
          "base_uri": "https://localhost:8080/"
        },
        "outputId": "336f15a6-5f44-4877-e757-268f44345c19"
      },
      "source": [
        "df_final = df_final.set_index('Tanggal')\n",
        "df_final['Jumlah'] = df_final['Jumlah'].astype(int)\n",
        "df_final.info()"
      ],
      "id": "196a58f1",
      "execution_count": 21,
      "outputs": [
        {
          "output_type": "stream",
          "name": "stdout",
          "text": [
            "<class 'pandas.core.frame.DataFrame'>\n",
            "DatetimeIndex: 61 entries, 2021-09-01 to 2021-10-31\n",
            "Data columns (total 1 columns):\n",
            " #   Column  Non-Null Count  Dtype\n",
            "---  ------  --------------  -----\n",
            " 0   Jumlah  61 non-null     int64\n",
            "dtypes: int64(1)\n",
            "memory usage: 976.0 bytes\n"
          ]
        }
      ]
    },
    {
      "cell_type": "code",
      "metadata": {
        "colab": {
          "base_uri": "https://localhost:8080/",
          "height": 455
        },
        "id": "owT0Ol84JJ0c",
        "outputId": "1119b04e-04dd-447d-ea5e-c71ad939cde6"
      },
      "source": [
        "df_final"
      ],
      "id": "owT0Ol84JJ0c",
      "execution_count": 22,
      "outputs": [
        {
          "output_type": "execute_result",
          "data": {
            "text/html": [
              "<div>\n",
              "<style scoped>\n",
              "    .dataframe tbody tr th:only-of-type {\n",
              "        vertical-align: middle;\n",
              "    }\n",
              "\n",
              "    .dataframe tbody tr th {\n",
              "        vertical-align: top;\n",
              "    }\n",
              "\n",
              "    .dataframe thead th {\n",
              "        text-align: right;\n",
              "    }\n",
              "</style>\n",
              "<table border=\"1\" class=\"dataframe\">\n",
              "  <thead>\n",
              "    <tr style=\"text-align: right;\">\n",
              "      <th></th>\n",
              "      <th>Jumlah</th>\n",
              "    </tr>\n",
              "    <tr>\n",
              "      <th>Tanggal</th>\n",
              "      <th></th>\n",
              "    </tr>\n",
              "  </thead>\n",
              "  <tbody>\n",
              "    <tr>\n",
              "      <th>2021-09-01</th>\n",
              "      <td>0</td>\n",
              "    </tr>\n",
              "    <tr>\n",
              "      <th>2021-09-02</th>\n",
              "      <td>9</td>\n",
              "    </tr>\n",
              "    <tr>\n",
              "      <th>2021-09-03</th>\n",
              "      <td>9</td>\n",
              "    </tr>\n",
              "    <tr>\n",
              "      <th>2021-09-04</th>\n",
              "      <td>2</td>\n",
              "    </tr>\n",
              "    <tr>\n",
              "      <th>2021-09-05</th>\n",
              "      <td>17</td>\n",
              "    </tr>\n",
              "    <tr>\n",
              "      <th>...</th>\n",
              "      <td>...</td>\n",
              "    </tr>\n",
              "    <tr>\n",
              "      <th>2021-10-27</th>\n",
              "      <td>2841</td>\n",
              "    </tr>\n",
              "    <tr>\n",
              "      <th>2021-10-28</th>\n",
              "      <td>2842</td>\n",
              "    </tr>\n",
              "    <tr>\n",
              "      <th>2021-10-29</th>\n",
              "      <td>2113</td>\n",
              "    </tr>\n",
              "    <tr>\n",
              "      <th>2021-10-30</th>\n",
              "      <td>626</td>\n",
              "    </tr>\n",
              "    <tr>\n",
              "      <th>2021-10-31</th>\n",
              "      <td>28</td>\n",
              "    </tr>\n",
              "  </tbody>\n",
              "</table>\n",
              "<p>61 rows × 1 columns</p>\n",
              "</div>"
            ],
            "text/plain": [
              "            Jumlah\n",
              "Tanggal           \n",
              "2021-09-01       0\n",
              "2021-09-02       9\n",
              "2021-09-03       9\n",
              "2021-09-04       2\n",
              "2021-09-05      17\n",
              "...            ...\n",
              "2021-10-27    2841\n",
              "2021-10-28    2842\n",
              "2021-10-29    2113\n",
              "2021-10-30     626\n",
              "2021-10-31      28\n",
              "\n",
              "[61 rows x 1 columns]"
            ]
          },
          "metadata": {},
          "execution_count": 22
        }
      ]
    },
    {
      "cell_type": "code",
      "metadata": {
        "id": "8cd2c6d3",
        "colab": {
          "base_uri": "https://localhost:8080/",
          "height": 350
        },
        "outputId": "ec6771fd-e166-40c8-8ac2-b36c03b4378b"
      },
      "source": [
        "plt.figure(figsize=(10,5))\n",
        "sns.lineplot(x='Tanggal', y='Jumlah', data=df_final)\n",
        "plt.title('Mobilitas Masyarakat')\n",
        "plt.grid()\n",
        "plt.show()"
      ],
      "id": "8cd2c6d3",
      "execution_count": 23,
      "outputs": [
        {
          "output_type": "display_data",
          "data": {
            "image/png": "[encoded data removed]",
            "text/plain": [
              "<Figure size 720x360 with 1 Axes>"
            ]
          },
          "metadata": {
            "needs_background": "light"
          }
        }
      ]
    },
    {
      "cell_type": "code",
      "metadata": {
        "colab": {
          "base_uri": "https://localhost:8080/"
        },
        "id": "LCySJaC0LbCG",
        "outputId": "0aee5e79-4d10-4d37-dd40-1d7773ff4aca"
      },
      "source": [
        "print(\"MAX : \", max(df_final['Jumlah']))\n",
        "print(\"MIN : \", min(df_final['Jumlah']))"
      ],
      "id": "LCySJaC0LbCG",
      "execution_count": 24,
      "outputs": [
        {
          "output_type": "stream",
          "name": "stdout",
          "text": [
            "MAX :  2842\n",
            "MIN :  0\n"
          ]
        }
      ]
    },
    {
      "cell_type": "code",
      "metadata": {
        "colab": {
          "base_uri": "https://localhost:8080/",
          "height": 238
        },
        "id": "zSyXtM2V4WTo",
        "outputId": "5a0f9d7f-c47e-465a-93fd-786867a57997"
      },
      "source": [
        "df_final.head()"
      ],
      "id": "zSyXtM2V4WTo",
      "execution_count": 25,
      "outputs": [
        {
          "output_type": "execute_result",
          "data": {
            "text/html": [
              "<div>\n",
              "<style scoped>\n",
              "    .dataframe tbody tr th:only-of-type {\n",
              "        vertical-align: middle;\n",
              "    }\n",
              "\n",
              "    .dataframe tbody tr th {\n",
              "        vertical-align: top;\n",
              "    }\n",
              "\n",
              "    .dataframe thead th {\n",
              "        text-align: right;\n",
              "    }\n",
              "</style>\n",
              "<table border=\"1\" class=\"dataframe\">\n",
              "  <thead>\n",
              "    <tr style=\"text-align: right;\">\n",
              "      <th></th>\n",
              "      <th>Jumlah</th>\n",
              "    </tr>\n",
              "    <tr>\n",
              "      <th>Tanggal</th>\n",
              "      <th></th>\n",
              "    </tr>\n",
              "  </thead>\n",
              "  <tbody>\n",
              "    <tr>\n",
              "      <th>2021-09-01</th>\n",
              "      <td>0</td>\n",
              "    </tr>\n",
              "    <tr>\n",
              "      <th>2021-09-02</th>\n",
              "      <td>9</td>\n",
              "    </tr>\n",
              "    <tr>\n",
              "      <th>2021-09-03</th>\n",
              "      <td>9</td>\n",
              "    </tr>\n",
              "    <tr>\n",
              "      <th>2021-09-04</th>\n",
              "      <td>2</td>\n",
              "    </tr>\n",
              "    <tr>\n",
              "      <th>2021-09-05</th>\n",
              "      <td>17</td>\n",
              "    </tr>\n",
              "  </tbody>\n",
              "</table>\n",
              "</div>"
            ],
            "text/plain": [
              "            Jumlah\n",
              "Tanggal           \n",
              "2021-09-01       0\n",
              "2021-09-02       9\n",
              "2021-09-03       9\n",
              "2021-09-04       2\n",
              "2021-09-05      17"
            ]
          },
          "metadata": {},
          "execution_count": 25
        }
      ]
    },
    {
      "cell_type": "code",
      "metadata": {
        "colab": {
          "base_uri": "https://localhost:8080/",
          "height": 238
        },
        "id": "BYmVxMKe4aa3",
        "outputId": "6bdcb1b7-ad68-440d-c591-889812700805"
      },
      "source": [
        "df_final.tail()"
      ],
      "id": "BYmVxMKe4aa3",
      "execution_count": 26,
      "outputs": [
        {
          "output_type": "execute_result",
          "data": {
            "text/html": [
              "<div>\n",
              "<style scoped>\n",
              "    .dataframe tbody tr th:only-of-type {\n",
              "        vertical-align: middle;\n",
              "    }\n",
              "\n",
              "    .dataframe tbody tr th {\n",
              "        vertical-align: top;\n",
              "    }\n",
              "\n",
              "    .dataframe thead th {\n",
              "        text-align: right;\n",
              "    }\n",
              "</style>\n",
              "<table border=\"1\" class=\"dataframe\">\n",
              "  <thead>\n",
              "    <tr style=\"text-align: right;\">\n",
              "      <th></th>\n",
              "      <th>Jumlah</th>\n",
              "    </tr>\n",
              "    <tr>\n",
              "      <th>Tanggal</th>\n",
              "      <th></th>\n",
              "    </tr>\n",
              "  </thead>\n",
              "  <tbody>\n",
              "    <tr>\n",
              "      <th>2021-10-27</th>\n",
              "      <td>2841</td>\n",
              "    </tr>\n",
              "    <tr>\n",
              "      <th>2021-10-28</th>\n",
              "      <td>2842</td>\n",
              "    </tr>\n",
              "    <tr>\n",
              "      <th>2021-10-29</th>\n",
              "      <td>2113</td>\n",
              "    </tr>\n",
              "    <tr>\n",
              "      <th>2021-10-30</th>\n",
              "      <td>626</td>\n",
              "    </tr>\n",
              "    <tr>\n",
              "      <th>2021-10-31</th>\n",
              "      <td>28</td>\n",
              "    </tr>\n",
              "  </tbody>\n",
              "</table>\n",
              "</div>"
            ],
            "text/plain": [
              "            Jumlah\n",
              "Tanggal           \n",
              "2021-10-27    2841\n",
              "2021-10-28    2842\n",
              "2021-10-29    2113\n",
              "2021-10-30     626\n",
              "2021-10-31      28"
            ]
          },
          "metadata": {},
          "execution_count": 26
        }
      ]
    },
    {
      "cell_type": "code",
      "metadata": {
        "id": "3e29321a"
      },
      "source": [
        "scaler = MinMaxScaler(feature_range=(0, 1))\n",
        "df_final['scaled'] = scaler.fit_transform(df_final)"
      ],
      "id": "3e29321a",
      "execution_count": 27,
      "outputs": []
    },
    {
      "cell_type": "code",
      "metadata": {
        "colab": {
          "base_uri": "https://localhost:8080/",
          "height": 455
        },
        "id": "K_59kvN8L1KZ",
        "outputId": "5abb8117-cfa2-4765-bd0d-61cdecdb82d2"
      },
      "source": [
        "df_final"
      ],
      "id": "K_59kvN8L1KZ",
      "execution_count": 28,
      "outputs": [
        {
          "output_type": "execute_result",
          "data": {
            "text/html": [
              "<div>\n",
              "<style scoped>\n",
              "    .dataframe tbody tr th:only-of-type {\n",
              "        vertical-align: middle;\n",
              "    }\n",
              "\n",
              "    .dataframe tbody tr th {\n",
              "        vertical-align: top;\n",
              "    }\n",
              "\n",
              "    .dataframe thead th {\n",
              "        text-align: right;\n",
              "    }\n",
              "</style>\n",
              "<table border=\"1\" class=\"dataframe\">\n",
              "  <thead>\n",
              "    <tr style=\"text-align: right;\">\n",
              "      <th></th>\n",
              "      <th>Jumlah</th>\n",
              "      <th>scaled</th>\n",
              "    </tr>\n",
              "    <tr>\n",
              "      <th>Tanggal</th>\n",
              "      <th></th>\n",
              "      <th></th>\n",
              "    </tr>\n",
              "  </thead>\n",
              "  <tbody>\n",
              "    <tr>\n",
              "      <th>2021-09-01</th>\n",
              "      <td>0</td>\n",
              "      <td>0.000000</td>\n",
              "    </tr>\n",
              "    <tr>\n",
              "      <th>2021-09-02</th>\n",
              "      <td>9</td>\n",
              "      <td>0.003167</td>\n",
              "    </tr>\n",
              "    <tr>\n",
              "      <th>2021-09-03</th>\n",
              "      <td>9</td>\n",
              "      <td>0.003167</td>\n",
              "    </tr>\n",
              "    <tr>\n",
              "      <th>2021-09-04</th>\n",
              "      <td>2</td>\n",
              "      <td>0.000704</td>\n",
              "    </tr>\n",
              "    <tr>\n",
              "      <th>2021-09-05</th>\n",
              "      <td>17</td>\n",
              "      <td>0.005982</td>\n",
              "    </tr>\n",
              "    <tr>\n",
              "      <th>...</th>\n",
              "      <td>...</td>\n",
              "      <td>...</td>\n",
              "    </tr>\n",
              "    <tr>\n",
              "      <th>2021-10-27</th>\n",
              "      <td>2841</td>\n",
              "      <td>0.999648</td>\n",
              "    </tr>\n",
              "    <tr>\n",
              "      <th>2021-10-28</th>\n",
              "      <td>2842</td>\n",
              "      <td>1.000000</td>\n",
              "    </tr>\n",
              "    <tr>\n",
              "      <th>2021-10-29</th>\n",
              "      <td>2113</td>\n",
              "      <td>0.743490</td>\n",
              "    </tr>\n",
              "    <tr>\n",
              "      <th>2021-10-30</th>\n",
              "      <td>626</td>\n",
              "      <td>0.220267</td>\n",
              "    </tr>\n",
              "    <tr>\n",
              "      <th>2021-10-31</th>\n",
              "      <td>28</td>\n",
              "      <td>0.009852</td>\n",
              "    </tr>\n",
              "  </tbody>\n",
              "</table>\n",
              "<p>61 rows × 2 columns</p>\n",
              "</div>"
            ],
            "text/plain": [
              "            Jumlah    scaled\n",
              "Tanggal                     \n",
              "2021-09-01       0  0.000000\n",
              "2021-09-02       9  0.003167\n",
              "2021-09-03       9  0.003167\n",
              "2021-09-04       2  0.000704\n",
              "2021-09-05      17  0.005982\n",
              "...            ...       ...\n",
              "2021-10-27    2841  0.999648\n",
              "2021-10-28    2842  1.000000\n",
              "2021-10-29    2113  0.743490\n",
              "2021-10-30     626  0.220267\n",
              "2021-10-31      28  0.009852\n",
              "\n",
              "[61 rows x 2 columns]"
            ]
          },
          "metadata": {},
          "execution_count": 28
        }
      ]
    },
    {
      "cell_type": "code",
      "metadata": {
        "id": "c19a9b33",
        "colab": {
          "base_uri": "https://localhost:8080/"
        },
        "outputId": "8bfc1d61-ee04-4b72-e327-afa772169666"
      },
      "source": [
        "ratio = 0.9\n",
        "n = int(ratio * len(df_final))\n",
        "train = df_final[:n]\n",
        "test = df_final[n:]\n",
        "\n",
        "print(train.shape)\n",
        "print(test.shape)"
      ],
      "id": "c19a9b33",
      "execution_count": 29,
      "outputs": [
        {
          "output_type": "stream",
          "name": "stdout",
          "text": [
            "(54, 2)\n",
            "(7, 2)\n"
          ]
        }
      ]
    },
    {
      "cell_type": "code",
      "metadata": {
        "id": "6921ca6f"
      },
      "source": [
        "def sliding_window(data, time_steps):\n",
        "    sub_seq, next_values = [], []\n",
        "    for i in range(len(data)-time_steps):\n",
        "        sub_seq.append(data[i:i+time_steps])\n",
        "        next_values.append(data[i+time_steps])\n",
        "    X = np.stack(sub_seq)\n",
        "    y = np.array(next_values)\n",
        "    return X,y"
      ],
      "id": "6921ca6f",
      "execution_count": 30,
      "outputs": []
    },
    {
      "cell_type": "code",
      "metadata": {
        "id": "fda2ee21"
      },
      "source": [
        "time_steps = 5\n",
        "X_train, y_train = sliding_window(train[['scaled']].values, time_steps)\n",
        "X_test, y_test = sliding_window(df_final[len(df_final)-len(test)-time_steps:][['scaled']].values, time_steps)"
      ],
      "id": "fda2ee21",
      "execution_count": 31,
      "outputs": []
    },
    {
      "cell_type": "code",
      "metadata": {
        "colab": {
          "base_uri": "https://localhost:8080/"
        },
        "id": "akkVhqEjFh2p",
        "outputId": "c827b3f8-315d-47f2-96c5-2ce42618cd0d"
      },
      "source": [
        "print(X_train.shape, y_train.shape)\n",
        "print(X_test.shape, y_test.shape)"
      ],
      "id": "akkVhqEjFh2p",
      "execution_count": 32,
      "outputs": [
        {
          "output_type": "stream",
          "name": "stdout",
          "text": [
            "(49, 5, 1) (49, 1)\n",
            "(7, 5, 1) (7, 1)\n"
          ]
        }
      ]
    },
    {
      "cell_type": "code",
      "metadata": {
        "id": "2f51391b"
      },
      "source": [
        "def root_mean_squared_error(y_true, y_pred):\n",
        "        return K.sqrt(K.mean(K.square(y_pred - y_true)))"
      ],
      "id": "2f51391b",
      "execution_count": 33,
      "outputs": []
    },
    {
      "cell_type": "code",
      "metadata": {
        "id": "JmHPGPa5dncY"
      },
      "source": [
        "# define the grid search parameters\n",
        "LSTM_unit = [32,64,128,256,512]\n",
        "dropout = [0.1,0.2,0.3]\n",
        "optimizer= ['RMSProp', 'SGD', 'Adam']"
      ],
      "id": "JmHPGPa5dncY",
      "execution_count": 34,
      "outputs": []
    },
    {
      "cell_type": "code",
      "metadata": {
        "id": "7bb2ed40"
      },
      "source": [
        "def create_model(LSTM_unit=0, dropout=0, optimizer=''):\n",
        "  # create model\n",
        "  model = Sequential()\n",
        "  model.add(LSTM(units=LSTM_unit, return_sequences = True, input_shape=(time_steps, 1)))\n",
        "  model.add(Dropout(dropout))\n",
        "  model.add(LSTM(units=LSTM_unit, return_sequences = True))\n",
        "  model.add(Dropout(dropout))\n",
        "  model.add(LSTM(units=LSTM_unit))\n",
        "  model.add(Dropout(dropout))\n",
        "  model.add(Dense(1))\n",
        "  # Compile model\n",
        "  model.compile(loss = 'mse', optimizer = optimizer, metrics= root_mean_squared_error)\n",
        "  #model.summary()\n",
        "  return model"
      ],
      "id": "7bb2ed40",
      "execution_count": 35,
      "outputs": []
    },
    {
      "cell_type": "code",
      "metadata": {
        "id": "ef5ee593"
      },
      "source": [
        "# Early Stopping\n",
        "es = EarlyStopping(monitor = 'loss', mode = \"min\", patience = 20)"
      ],
      "id": "ef5ee593",
      "execution_count": 36,
      "outputs": []
    },
    {
      "cell_type": "code",
      "metadata": {
        "id": "7f0a9775",
        "colab": {
          "base_uri": "https://localhost:8080/"
        },
        "outputId": "ac02ec08-bfb0-4be1-d6df-fe57d341ea68"
      },
      "source": [
        "# Hypertunning  \n",
        "model = KerasRegressor(build_fn=create_model, epochs=500, batch_size=1, callbacks=[es])\n",
        "param = dict(LSTM_unit=LSTM_unit, dropout=dropout, optimizer=optimizer)\n",
        "grid = GridSearchCV(estimator=model, param_grid=param, n_jobs=-1, cv=2)"
      ],
      "id": "7f0a9775",
      "execution_count": 37,
      "outputs": [
        {
          "output_type": "stream",
          "name": "stderr",
          "text": [
            "/usr/local/lib/python3.7/dist-packages/ipykernel_launcher.py:2: DeprecationWarning: KerasRegressor is deprecated, use Sci-Keras (https://github.com/adriangb/scikeras) instead.\n",
            "  \n"
          ]
        }
      ]
    },
    {
      "cell_type": "code",
      "metadata": {
        "id": "5f226b4f",
        "colab": {
          "base_uri": "https://localhost:8080/"
        },
        "outputId": "0d6eb4f5-c677-4d53-8e7c-90f242effefa"
      },
      "source": [
        "# training\n",
        "grid_result = grid.fit(X_train, y_train)"
      ],
      "id": "5f226b4f",
      "execution_count": 38,
      "outputs": [
        {
          "output_type": "stream",
          "name": "stdout",
          "text": [
            "Epoch 1/500\n",
            "49/49 [==============================] - 6s 20ms/step - loss: 0.1004 - root_mean_squared_error: 0.2086\n",
            "Epoch 2/500\n",
            "49/49 [==============================] - 1s 20ms/step - loss: 0.0814 - root_mean_squared_error: 0.1957\n",
            "Epoch 3/500\n",
            "49/49 [==============================] - 1s 20ms/step - loss: 0.0764 - root_mean_squared_error: 0.1843\n",
            "Epoch 4/500\n",
            "49/49 [==============================] - 1s 20ms/step - loss: 0.0662 - root_mean_squared_error: 0.1799\n",
            "Epoch 5/500\n",
            "49/49 [==============================] - 1s 20ms/step - loss: 0.1025 - root_mean_squared_error: 0.1977\n",
            "Epoch 6/500\n",
            "49/49 [==============================] - 1s 20ms/step - loss: 0.0618 - root_mean_squared_error: 0.1686\n",
            "Epoch 7/500\n",
            "49/49 [==============================] - 1s 21ms/step - loss: 0.0706 - root_mean_squared_error: 0.1762\n",
            "Epoch 8/500\n",
            "49/49 [==============================] - 1s 20ms/step - loss: 0.0719 - root_mean_squared_error: 0.1816\n",
            "Epoch 9/500\n",
            "49/49 [==============================] - 1s 20ms/step - loss: 0.0554 - root_mean_squared_error: 0.1609\n",
            "Epoch 10/500\n",
            "49/49 [==============================] - 1s 20ms/step - loss: 0.0680 - root_mean_squared_error: 0.1792\n",
            "Epoch 11/500\n",
            "49/49 [==============================] - 1s 20ms/step - loss: 0.0573 - root_mean_squared_error: 0.1458\n",
            "Epoch 12/500\n",
            "49/49 [==============================] - 1s 20ms/step - loss: 0.0755 - root_mean_squared_error: 0.1706\n",
            "Epoch 13/500\n",
            "49/49 [==============================] - 1s 20ms/step - loss: 0.0419 - root_mean_squared_error: 0.1350\n",
            "Epoch 14/500\n",
            "49/49 [==============================] - 1s 20ms/step - loss: 0.0539 - root_mean_squared_error: 0.1573\n",
            "Epoch 15/500\n",
            "49/49 [==============================] - 1s 20ms/step - loss: 0.0517 - root_mean_squared_error: 0.1610\n",
            "Epoch 16/500\n",
            "49/49 [==============================] - 1s 20ms/step - loss: 0.0445 - root_mean_squared_error: 0.1445\n",
            "Epoch 17/500\n",
            "49/49 [==============================] - 1s 21ms/step - loss: 0.0445 - root_mean_squared_error: 0.1410\n",
            "Epoch 18/500\n",
            "49/49 [==============================] - 1s 20ms/step - loss: 0.0519 - root_mean_squared_error: 0.1494\n",
            "Epoch 19/500\n",
            "49/49 [==============================] - 1s 20ms/step - loss: 0.0488 - root_mean_squared_error: 0.1509\n",
            "Epoch 20/500\n",
            "49/49 [==============================] - 1s 20ms/step - loss: 0.0490 - root_mean_squared_error: 0.1318\n",
            "Epoch 21/500\n",
            "49/49 [==============================] - 1s 20ms/step - loss: 0.0374 - root_mean_squared_error: 0.1239\n",
            "Epoch 22/500\n",
            "49/49 [==============================] - 1s 20ms/step - loss: 0.0508 - root_mean_squared_error: 0.1540\n",
            "Epoch 23/500\n",
            "49/49 [==============================] - 1s 20ms/step - loss: 0.0434 - root_mean_squared_error: 0.1297\n",
            "Epoch 24/500\n",
            "49/49 [==============================] - 1s 21ms/step - loss: 0.0598 - root_mean_squared_error: 0.1430\n",
            "Epoch 25/500\n",
            "49/49 [==============================] - 1s 21ms/step - loss: 0.0463 - root_mean_squared_error: 0.1401\n",
            "Epoch 26/500\n",
            "49/49 [==============================] - 1s 20ms/step - loss: 0.0399 - root_mean_squared_error: 0.1442\n",
            "Epoch 27/500\n",
            "49/49 [==============================] - 1s 20ms/step - loss: 0.0464 - root_mean_squared_error: 0.1425\n",
            "Epoch 28/500\n",
            "49/49 [==============================] - 1s 20ms/step - loss: 0.0380 - root_mean_squared_error: 0.1311\n",
            "Epoch 29/500\n",
            "49/49 [==============================] - 1s 20ms/step - loss: 0.0435 - root_mean_squared_error: 0.1413\n",
            "Epoch 30/500\n",
            "49/49 [==============================] - 1s 20ms/step - loss: 0.0316 - root_mean_squared_error: 0.1207\n",
            "Epoch 31/500\n",
            "49/49 [==============================] - 1s 20ms/step - loss: 0.0399 - root_mean_squared_error: 0.1326\n",
            "Epoch 32/500\n",
            "49/49 [==============================] - 1s 20ms/step - loss: 0.0417 - root_mean_squared_error: 0.1376\n",
            "Epoch 33/500\n",
            "49/49 [==============================] - 1s 20ms/step - loss: 0.0418 - root_mean_squared_error: 0.1365\n",
            "Epoch 34/500\n",
            "49/49 [==============================] - 1s 21ms/step - loss: 0.0391 - root_mean_squared_error: 0.1337\n",
            "Epoch 35/500\n",
            "49/49 [==============================] - 1s 20ms/step - loss: 0.0421 - root_mean_squared_error: 0.1374\n",
            "Epoch 36/500\n",
            "49/49 [==============================] - 1s 20ms/step - loss: 0.0366 - root_mean_squared_error: 0.1197\n",
            "Epoch 37/500\n",
            "49/49 [==============================] - 1s 20ms/step - loss: 0.0443 - root_mean_squared_error: 0.1412\n",
            "Epoch 38/500\n",
            "49/49 [==============================] - 1s 20ms/step - loss: 0.0421 - root_mean_squared_error: 0.1270\n",
            "Epoch 39/500\n",
            "49/49 [==============================] - 1s 20ms/step - loss: 0.0364 - root_mean_squared_error: 0.1216\n",
            "Epoch 40/500\n",
            "49/49 [==============================] - 1s 20ms/step - loss: 0.0428 - root_mean_squared_error: 0.1336\n",
            "Epoch 41/500\n",
            "49/49 [==============================] - 1s 20ms/step - loss: 0.0338 - root_mean_squared_error: 0.1172\n",
            "Epoch 42/500\n",
            "49/49 [==============================] - 1s 20ms/step - loss: 0.0306 - root_mean_squared_error: 0.1084\n",
            "Epoch 43/500\n",
            "49/49 [==============================] - 1s 21ms/step - loss: 0.0365 - root_mean_squared_error: 0.1221\n",
            "Epoch 44/500\n",
            "49/49 [==============================] - 1s 21ms/step - loss: 0.0397 - root_mean_squared_error: 0.1391\n",
            "Epoch 45/500\n",
            "49/49 [==============================] - 1s 20ms/step - loss: 0.0340 - root_mean_squared_error: 0.1189\n",
            "Epoch 46/500\n",
            "49/49 [==============================] - 1s 20ms/step - loss: 0.0351 - root_mean_squared_error: 0.1237\n",
            "Epoch 47/500\n",
            "49/49 [==============================] - 1s 20ms/step - loss: 0.0363 - root_mean_squared_error: 0.1213\n",
            "Epoch 48/500\n",
            "49/49 [==============================] - 1s 20ms/step - loss: 0.0294 - root_mean_squared_error: 0.1173\n",
            "Epoch 49/500\n",
            "49/49 [==============================] - 1s 21ms/step - loss: 0.0348 - root_mean_squared_error: 0.1285\n",
            "Epoch 50/500\n",
            "49/49 [==============================] - 1s 20ms/step - loss: 0.0307 - root_mean_squared_error: 0.1153\n",
            "Epoch 51/500\n",
            "49/49 [==============================] - 1s 20ms/step - loss: 0.0383 - root_mean_squared_error: 0.1267\n",
            "Epoch 52/500\n",
            "49/49 [==============================] - 1s 20ms/step - loss: 0.0368 - root_mean_squared_error: 0.1259\n",
            "Epoch 53/500\n",
            "49/49 [==============================] - 1s 20ms/step - loss: 0.0350 - root_mean_squared_error: 0.1181\n",
            "Epoch 54/500\n",
            "49/49 [==============================] - 1s 20ms/step - loss: 0.0299 - root_mean_squared_error: 0.1104\n",
            "Epoch 55/500\n",
            "49/49 [==============================] - 1s 21ms/step - loss: 0.0329 - root_mean_squared_error: 0.1189\n",
            "Epoch 56/500\n",
            "49/49 [==============================] - 1s 21ms/step - loss: 0.0239 - root_mean_squared_error: 0.1011\n",
            "Epoch 57/500\n",
            "49/49 [==============================] - 1s 21ms/step - loss: 0.0250 - root_mean_squared_error: 0.1046\n",
            "Epoch 58/500\n",
            "49/49 [==============================] - 1s 20ms/step - loss: 0.0233 - root_mean_squared_error: 0.0997\n",
            "Epoch 59/500\n",
            "49/49 [==============================] - 1s 20ms/step - loss: 0.0285 - root_mean_squared_error: 0.1147\n",
            "Epoch 60/500\n",
            "49/49 [==============================] - 1s 21ms/step - loss: 0.0281 - root_mean_squared_error: 0.1177\n",
            "Epoch 61/500\n",
            "49/49 [==============================] - 1s 20ms/step - loss: 0.0200 - root_mean_squared_error: 0.0976\n",
            "Epoch 62/500\n",
            "49/49 [==============================] - 1s 21ms/step - loss: 0.0307 - root_mean_squared_error: 0.1123\n",
            "Epoch 63/500\n",
            "49/49 [==============================] - 1s 20ms/step - loss: 0.0183 - root_mean_squared_error: 0.0954\n",
            "Epoch 64/500\n",
            "49/49 [==============================] - 1s 21ms/step - loss: 0.0254 - root_mean_squared_error: 0.1046\n",
            "Epoch 65/500\n",
            "49/49 [==============================] - 1s 20ms/step - loss: 0.0281 - root_mean_squared_error: 0.1157\n",
            "Epoch 66/500\n",
            "49/49 [==============================] - 1s 21ms/step - loss: 0.0286 - root_mean_squared_error: 0.1089\n",
            "Epoch 67/500\n",
            "49/49 [==============================] - 1s 20ms/step - loss: 0.0242 - root_mean_squared_error: 0.1065\n",
            "Epoch 68/500\n",
            "49/49 [==============================] - 1s 21ms/step - loss: 0.0185 - root_mean_squared_error: 0.0880\n",
            "Epoch 69/500\n",
            "49/49 [==============================] - 1s 20ms/step - loss: 0.0186 - root_mean_squared_error: 0.0878\n",
            "Epoch 70/500\n",
            "49/49 [==============================] - 1s 20ms/step - loss: 0.0335 - root_mean_squared_error: 0.1127\n",
            "Epoch 71/500\n",
            "49/49 [==============================] - 1s 20ms/step - loss: 0.0180 - root_mean_squared_error: 0.0926\n",
            "Epoch 72/500\n",
            "49/49 [==============================] - 1s 20ms/step - loss: 0.0166 - root_mean_squared_error: 0.0921\n",
            "Epoch 73/500\n",
            "49/49 [==============================] - 1s 21ms/step - loss: 0.0173 - root_mean_squared_error: 0.0961\n",
            "Epoch 74/500\n",
            "49/49 [==============================] - 1s 20ms/step - loss: 0.0181 - root_mean_squared_error: 0.0812\n",
            "Epoch 75/500\n",
            "49/49 [==============================] - 1s 20ms/step - loss: 0.0177 - root_mean_squared_error: 0.0917\n",
            "Epoch 76/500\n",
            "49/49 [==============================] - 1s 21ms/step - loss: 0.0106 - root_mean_squared_error: 0.0656\n",
            "Epoch 77/500\n",
            "49/49 [==============================] - 1s 21ms/step - loss: 0.0174 - root_mean_squared_error: 0.0870\n",
            "Epoch 78/500\n",
            "49/49 [==============================] - 1s 20ms/step - loss: 0.0119 - root_mean_squared_error: 0.0713\n",
            "Epoch 79/500\n",
            "49/49 [==============================] - 1s 20ms/step - loss: 0.0152 - root_mean_squared_error: 0.0847\n",
            "Epoch 80/500\n",
            "49/49 [==============================] - 1s 21ms/step - loss: 0.0160 - root_mean_squared_error: 0.0753\n",
            "Epoch 81/500\n",
            "49/49 [==============================] - 1s 20ms/step - loss: 0.0128 - root_mean_squared_error: 0.0726\n",
            "Epoch 82/500\n",
            "49/49 [==============================] - 1s 20ms/step - loss: 0.0094 - root_mean_squared_error: 0.0630\n",
            "Epoch 83/500\n",
            "49/49 [==============================] - 1s 20ms/step - loss: 0.0102 - root_mean_squared_error: 0.0728\n",
            "Epoch 84/500\n",
            "49/49 [==============================] - 1s 20ms/step - loss: 0.0108 - root_mean_squared_error: 0.0708\n",
            "Epoch 85/500\n",
            "49/49 [==============================] - 1s 21ms/step - loss: 0.0057 - root_mean_squared_error: 0.0583\n",
            "Epoch 86/500\n",
            "49/49 [==============================] - 1s 21ms/step - loss: 0.0128 - root_mean_squared_error: 0.0789\n",
            "Epoch 87/500\n",
            "49/49 [==============================] - 1s 21ms/step - loss: 0.0073 - root_mean_squared_error: 0.0574\n",
            "Epoch 88/500\n",
            "49/49 [==============================] - 1s 21ms/step - loss: 0.0096 - root_mean_squared_error: 0.0616\n",
            "Epoch 89/500\n",
            "49/49 [==============================] - 1s 20ms/step - loss: 0.0082 - root_mean_squared_error: 0.0610\n",
            "Epoch 90/500\n",
            "49/49 [==============================] - 1s 20ms/step - loss: 0.0075 - root_mean_squared_error: 0.0594\n",
            "Epoch 91/500\n",
            "49/49 [==============================] - 1s 20ms/step - loss: 0.0120 - root_mean_squared_error: 0.0729\n",
            "Epoch 92/500\n",
            "49/49 [==============================] - 1s 21ms/step - loss: 0.0055 - root_mean_squared_error: 0.0506\n",
            "Epoch 93/500\n",
            "49/49 [==============================] - 1s 21ms/step - loss: 0.0083 - root_mean_squared_error: 0.0624\n",
            "Epoch 94/500\n",
            "49/49 [==============================] - 1s 21ms/step - loss: 0.0039 - root_mean_squared_error: 0.0467\n",
            "Epoch 95/500\n",
            "49/49 [==============================] - 1s 21ms/step - loss: 0.0092 - root_mean_squared_error: 0.0664\n",
            "Epoch 96/500\n",
            "49/49 [==============================] - 1s 21ms/step - loss: 0.0066 - root_mean_squared_error: 0.0591\n",
            "Epoch 97/500\n",
            "49/49 [==============================] - 1s 21ms/step - loss: 0.0080 - root_mean_squared_error: 0.0677\n",
            "Epoch 98/500\n",
            "49/49 [==============================] - 1s 20ms/step - loss: 0.0085 - root_mean_squared_error: 0.0590\n",
            "Epoch 99/500\n",
            "49/49 [==============================] - 1s 20ms/step - loss: 0.0065 - root_mean_squared_error: 0.0476\n",
            "Epoch 100/500\n",
            "49/49 [==============================] - 1s 21ms/step - loss: 0.0037 - root_mean_squared_error: 0.0484\n",
            "Epoch 101/500\n",
            "49/49 [==============================] - 1s 20ms/step - loss: 0.0080 - root_mean_squared_error: 0.0612\n",
            "Epoch 102/500\n",
            "49/49 [==============================] - 1s 20ms/step - loss: 0.0054 - root_mean_squared_error: 0.0556\n",
            "Epoch 103/500\n",
            "49/49 [==============================] - 1s 21ms/step - loss: 0.0046 - root_mean_squared_error: 0.0524\n",
            "Epoch 104/500\n",
            "49/49 [==============================] - 1s 20ms/step - loss: 0.0061 - root_mean_squared_error: 0.0515\n",
            "Epoch 105/500\n",
            "49/49 [==============================] - 1s 21ms/step - loss: 0.0097 - root_mean_squared_error: 0.0564\n",
            "Epoch 106/500\n",
            "49/49 [==============================] - 1s 20ms/step - loss: 0.0059 - root_mean_squared_error: 0.0558\n",
            "Epoch 107/500\n",
            "49/49 [==============================] - 1s 21ms/step - loss: 0.0065 - root_mean_squared_error: 0.0529\n",
            "Epoch 108/500\n",
            "49/49 [==============================] - 1s 21ms/step - loss: 0.0059 - root_mean_squared_error: 0.0535\n",
            "Epoch 109/500\n",
            "49/49 [==============================] - 1s 21ms/step - loss: 0.0075 - root_mean_squared_error: 0.0533\n",
            "Epoch 110/500\n",
            "49/49 [==============================] - 1s 20ms/step - loss: 0.0037 - root_mean_squared_error: 0.0444\n",
            "Epoch 111/500\n",
            "49/49 [==============================] - 1s 20ms/step - loss: 0.0112 - root_mean_squared_error: 0.0568\n",
            "Epoch 112/500\n",
            "49/49 [==============================] - 1s 20ms/step - loss: 0.0044 - root_mean_squared_error: 0.0505\n",
            "Epoch 113/500\n",
            "49/49 [==============================] - 1s 20ms/step - loss: 0.0073 - root_mean_squared_error: 0.0546\n",
            "Epoch 114/500\n",
            "49/49 [==============================] - 1s 20ms/step - loss: 0.0064 - root_mean_squared_error: 0.0570\n",
            "Epoch 115/500\n",
            "49/49 [==============================] - 1s 20ms/step - loss: 0.0060 - root_mean_squared_error: 0.0500\n",
            "Epoch 116/500\n",
            "49/49 [==============================] - 1s 20ms/step - loss: 0.0068 - root_mean_squared_error: 0.0559\n",
            "Epoch 117/500\n",
            "49/49 [==============================] - 1s 21ms/step - loss: 0.0024 - root_mean_squared_error: 0.0355\n",
            "Epoch 118/500\n",
            "49/49 [==============================] - 1s 21ms/step - loss: 0.0060 - root_mean_squared_error: 0.0491\n",
            "Epoch 119/500\n",
            "49/49 [==============================] - 1s 21ms/step - loss: 0.0043 - root_mean_squared_error: 0.0454\n",
            "Epoch 120/500\n",
            "49/49 [==============================] - 1s 21ms/step - loss: 0.0032 - root_mean_squared_error: 0.0407\n",
            "Epoch 121/500\n",
            "49/49 [==============================] - 1s 21ms/step - loss: 0.0062 - root_mean_squared_error: 0.0532\n",
            "Epoch 122/500\n",
            "49/49 [==============================] - 1s 21ms/step - loss: 0.0068 - root_mean_squared_error: 0.0510\n",
            "Epoch 123/500\n",
            "49/49 [==============================] - 1s 21ms/step - loss: 0.0040 - root_mean_squared_error: 0.0443\n",
            "Epoch 124/500\n",
            "49/49 [==============================] - 1s 21ms/step - loss: 0.0049 - root_mean_squared_error: 0.0498\n",
            "Epoch 125/500\n",
            "49/49 [==============================] - 1s 21ms/step - loss: 0.0054 - root_mean_squared_error: 0.0466\n",
            "Epoch 126/500\n",
            "49/49 [==============================] - 1s 21ms/step - loss: 0.0056 - root_mean_squared_error: 0.0510\n",
            "Epoch 127/500\n",
            "49/49 [==============================] - 1s 21ms/step - loss: 0.0047 - root_mean_squared_error: 0.0480\n",
            "Epoch 128/500\n",
            "49/49 [==============================] - 1s 21ms/step - loss: 0.0050 - root_mean_squared_error: 0.0531\n",
            "Epoch 129/500\n",
            "49/49 [==============================] - 1s 21ms/step - loss: 0.0025 - root_mean_squared_error: 0.0374\n",
            "Epoch 130/500\n",
            "49/49 [==============================] - 1s 21ms/step - loss: 0.0069 - root_mean_squared_error: 0.0586\n",
            "Epoch 131/500\n",
            "49/49 [==============================] - 1s 21ms/step - loss: 0.0021 - root_mean_squared_error: 0.0352\n",
            "Epoch 132/500\n",
            "49/49 [==============================] - 1s 21ms/step - loss: 0.0041 - root_mean_squared_error: 0.0484\n",
            "Epoch 133/500\n",
            "49/49 [==============================] - 1s 21ms/step - loss: 0.0064 - root_mean_squared_error: 0.0516\n",
            "Epoch 134/500\n",
            "49/49 [==============================] - 1s 21ms/step - loss: 0.0055 - root_mean_squared_error: 0.0565\n",
            "Epoch 135/500\n",
            "49/49 [==============================] - 1s 21ms/step - loss: 0.0037 - root_mean_squared_error: 0.0418\n",
            "Epoch 136/500\n",
            "49/49 [==============================] - 1s 21ms/step - loss: 0.0070 - root_mean_squared_error: 0.0511\n",
            "Epoch 137/500\n",
            "49/49 [==============================] - 1s 21ms/step - loss: 0.0041 - root_mean_squared_error: 0.0419\n",
            "Epoch 138/500\n",
            "49/49 [==============================] - 1s 21ms/step - loss: 0.0033 - root_mean_squared_error: 0.0445\n",
            "Epoch 139/500\n",
            "49/49 [==============================] - 1s 21ms/step - loss: 0.0031 - root_mean_squared_error: 0.0400\n",
            "Epoch 140/500\n",
            "49/49 [==============================] - 1s 21ms/step - loss: 0.0049 - root_mean_squared_error: 0.0462\n",
            "Epoch 141/500\n",
            "49/49 [==============================] - 1s 21ms/step - loss: 0.0038 - root_mean_squared_error: 0.0453\n",
            "Epoch 142/500\n",
            "49/49 [==============================] - 1s 21ms/step - loss: 0.0050 - root_mean_squared_error: 0.0449\n",
            "Epoch 143/500\n",
            "49/49 [==============================] - 1s 21ms/step - loss: 0.0036 - root_mean_squared_error: 0.0430\n",
            "Epoch 144/500\n",
            "49/49 [==============================] - 1s 21ms/step - loss: 0.0039 - root_mean_squared_error: 0.0432\n",
            "Epoch 145/500\n",
            "49/49 [==============================] - 1s 21ms/step - loss: 0.0027 - root_mean_squared_error: 0.0357\n",
            "Epoch 146/500\n",
            "49/49 [==============================] - 1s 21ms/step - loss: 0.0030 - root_mean_squared_error: 0.0406\n",
            "Epoch 147/500\n",
            "49/49 [==============================] - 1s 21ms/step - loss: 0.0024 - root_mean_squared_error: 0.0358\n",
            "Epoch 148/500\n",
            "49/49 [==============================] - 1s 21ms/step - loss: 0.0031 - root_mean_squared_error: 0.0387\n",
            "Epoch 149/500\n",
            "49/49 [==============================] - 1s 21ms/step - loss: 0.0047 - root_mean_squared_error: 0.0468\n",
            "Epoch 150/500\n",
            "49/49 [==============================] - 1s 21ms/step - loss: 0.0056 - root_mean_squared_error: 0.0489\n",
            "Epoch 151/500\n",
            "49/49 [==============================] - 1s 21ms/step - loss: 0.0019 - root_mean_squared_error: 0.0309\n",
            "Epoch 152/500\n",
            "49/49 [==============================] - 1s 21ms/step - loss: 0.0032 - root_mean_squared_error: 0.0391\n",
            "Epoch 153/500\n",
            "49/49 [==============================] - 1s 20ms/step - loss: 0.0036 - root_mean_squared_error: 0.0425\n",
            "Epoch 154/500\n",
            "49/49 [==============================] - 1s 21ms/step - loss: 0.0035 - root_mean_squared_error: 0.0434\n",
            "Epoch 155/500\n",
            "49/49 [==============================] - 1s 21ms/step - loss: 0.0026 - root_mean_squared_error: 0.0371\n",
            "Epoch 156/500\n",
            "49/49 [==============================] - 1s 21ms/step - loss: 0.0054 - root_mean_squared_error: 0.0479\n",
            "Epoch 157/500\n",
            "49/49 [==============================] - 1s 21ms/step - loss: 0.0074 - root_mean_squared_error: 0.0519\n",
            "Epoch 158/500\n",
            "49/49 [==============================] - 1s 21ms/step - loss: 0.0033 - root_mean_squared_error: 0.0418\n",
            "Epoch 159/500\n",
            "49/49 [==============================] - 1s 21ms/step - loss: 0.0055 - root_mean_squared_error: 0.0495\n",
            "Epoch 160/500\n",
            "49/49 [==============================] - 1s 21ms/step - loss: 0.0027 - root_mean_squared_error: 0.0395\n",
            "Epoch 161/500\n",
            "49/49 [==============================] - 1s 21ms/step - loss: 0.0024 - root_mean_squared_error: 0.0358\n",
            "Epoch 162/500\n",
            "49/49 [==============================] - 1s 21ms/step - loss: 0.0032 - root_mean_squared_error: 0.0399\n",
            "Epoch 163/500\n",
            "49/49 [==============================] - 1s 21ms/step - loss: 0.0056 - root_mean_squared_error: 0.0522\n",
            "Epoch 164/500\n",
            "49/49 [==============================] - 1s 21ms/step - loss: 0.0026 - root_mean_squared_error: 0.0393\n",
            "Epoch 165/500\n",
            "49/49 [==============================] - 1s 21ms/step - loss: 0.0049 - root_mean_squared_error: 0.0438\n",
            "Epoch 166/500\n",
            "49/49 [==============================] - 1s 21ms/step - loss: 0.0030 - root_mean_squared_error: 0.0372\n",
            "Epoch 167/500\n",
            "49/49 [==============================] - 1s 21ms/step - loss: 0.0037 - root_mean_squared_error: 0.0431\n",
            "Epoch 168/500\n",
            "49/49 [==============================] - 1s 21ms/step - loss: 0.0035 - root_mean_squared_error: 0.0420\n",
            "Epoch 169/500\n",
            "49/49 [==============================] - 1s 21ms/step - loss: 0.0029 - root_mean_squared_error: 0.0393\n",
            "Epoch 170/500\n",
            "49/49 [==============================] - 1s 21ms/step - loss: 0.0051 - root_mean_squared_error: 0.0459\n",
            "Epoch 171/500\n",
            "49/49 [==============================] - 1s 21ms/step - loss: 0.0021 - root_mean_squared_error: 0.0367\n"
          ]
        }
      ]
    },
    {
      "cell_type": "code",
      "metadata": {
        "id": "d4c69ff8",
        "colab": {
          "base_uri": "https://localhost:8080/"
        },
        "outputId": "e2b7c35b-9b3d-4176-b244-3e77353a6833"
      },
      "source": [
        "# results\n",
        "print(\"Best: %f using %s\" % (grid_result.best_score_, grid_result.best_params_))\n",
        "means = grid_result.cv_results_['mean_test_score']\n",
        "stds = grid_result.cv_results_['std_test_score']\n",
        "params = grid_result.cv_results_['params']\n",
        "for mean, stdev, param in zip(means, stds, params):\n",
        "    print(\"%f (%f) with: %r\" % (mean, stdev, param))\n",
        "    \n",
        "# Mengambil model terbaik\n",
        "best_model = grid_result.best_estimator_.model"
      ],
      "id": "d4c69ff8",
      "execution_count": 39,
      "outputs": [
        {
          "output_type": "stream",
          "name": "stdout",
          "text": [
            "Best: -0.112329 using {'LSTM_unit': 512, 'dropout': 0.1, 'optimizer': 'RMSProp'}\n",
            "-0.179717 (0.046507) with: {'LSTM_unit': 32, 'dropout': 0.1, 'optimizer': 'RMSProp'}\n",
            "-0.177681 (0.041728) with: {'LSTM_unit': 32, 'dropout': 0.1, 'optimizer': 'SGD'}\n",
            "-0.179579 (0.039999) with: {'LSTM_unit': 32, 'dropout': 0.1, 'optimizer': 'Adam'}\n",
            "-0.177556 (0.048357) with: {'LSTM_unit': 32, 'dropout': 0.2, 'optimizer': 'RMSProp'}\n",
            "-0.170667 (0.051212) with: {'LSTM_unit': 32, 'dropout': 0.2, 'optimizer': 'SGD'}\n",
            "-0.172633 (0.049111) with: {'LSTM_unit': 32, 'dropout': 0.2, 'optimizer': 'Adam'}\n",
            "-0.166442 (0.049359) with: {'LSTM_unit': 32, 'dropout': 0.3, 'optimizer': 'RMSProp'}\n",
            "-0.184961 (0.041578) with: {'LSTM_unit': 32, 'dropout': 0.3, 'optimizer': 'SGD'}\n",
            "-0.181760 (0.034247) with: {'LSTM_unit': 32, 'dropout': 0.3, 'optimizer': 'Adam'}\n",
            "-0.174070 (0.045463) with: {'LSTM_unit': 64, 'dropout': 0.1, 'optimizer': 'RMSProp'}\n",
            "-0.183141 (0.040835) with: {'LSTM_unit': 64, 'dropout': 0.1, 'optimizer': 'SGD'}\n",
            "-0.167706 (0.052017) with: {'LSTM_unit': 64, 'dropout': 0.1, 'optimizer': 'Adam'}\n",
            "-0.161254 (0.060712) with: {'LSTM_unit': 64, 'dropout': 0.2, 'optimizer': 'RMSProp'}\n",
            "-0.183674 (0.033707) with: {'LSTM_unit': 64, 'dropout': 0.2, 'optimizer': 'SGD'}\n",
            "-0.177299 (0.042848) with: {'LSTM_unit': 64, 'dropout': 0.2, 'optimizer': 'Adam'}\n",
            "-0.187201 (0.028492) with: {'LSTM_unit': 64, 'dropout': 0.3, 'optimizer': 'RMSProp'}\n",
            "-0.184389 (0.036090) with: {'LSTM_unit': 64, 'dropout': 0.3, 'optimizer': 'SGD'}\n",
            "-0.171692 (0.051536) with: {'LSTM_unit': 64, 'dropout': 0.3, 'optimizer': 'Adam'}\n",
            "-0.114296 (0.101693) with: {'LSTM_unit': 128, 'dropout': 0.1, 'optimizer': 'RMSProp'}\n",
            "-0.185952 (0.034056) with: {'LSTM_unit': 128, 'dropout': 0.1, 'optimizer': 'SGD'}\n",
            "-0.180210 (0.035172) with: {'LSTM_unit': 128, 'dropout': 0.1, 'optimizer': 'Adam'}\n",
            "-0.187628 (0.040729) with: {'LSTM_unit': 128, 'dropout': 0.2, 'optimizer': 'RMSProp'}\n",
            "-0.173242 (0.052073) with: {'LSTM_unit': 128, 'dropout': 0.2, 'optimizer': 'SGD'}\n",
            "-0.169694 (0.046566) with: {'LSTM_unit': 128, 'dropout': 0.2, 'optimizer': 'Adam'}\n",
            "-0.142666 (0.067752) with: {'LSTM_unit': 128, 'dropout': 0.3, 'optimizer': 'RMSProp'}\n",
            "-0.177667 (0.044290) with: {'LSTM_unit': 128, 'dropout': 0.3, 'optimizer': 'SGD'}\n",
            "-0.172505 (0.041591) with: {'LSTM_unit': 128, 'dropout': 0.3, 'optimizer': 'Adam'}\n",
            "-0.172901 (0.027188) with: {'LSTM_unit': 256, 'dropout': 0.1, 'optimizer': 'RMSProp'}\n",
            "-0.178435 (0.042498) with: {'LSTM_unit': 256, 'dropout': 0.1, 'optimizer': 'SGD'}\n",
            "-0.180806 (0.028053) with: {'LSTM_unit': 256, 'dropout': 0.1, 'optimizer': 'Adam'}\n",
            "-0.153702 (0.066295) with: {'LSTM_unit': 256, 'dropout': 0.2, 'optimizer': 'RMSProp'}\n",
            "-0.176913 (0.044864) with: {'LSTM_unit': 256, 'dropout': 0.2, 'optimizer': 'SGD'}\n",
            "-0.162387 (0.053511) with: {'LSTM_unit': 256, 'dropout': 0.2, 'optimizer': 'Adam'}\n",
            "-0.175512 (0.061064) with: {'LSTM_unit': 256, 'dropout': 0.3, 'optimizer': 'RMSProp'}\n",
            "-0.181157 (0.039185) with: {'LSTM_unit': 256, 'dropout': 0.3, 'optimizer': 'SGD'}\n",
            "-0.179959 (0.041688) with: {'LSTM_unit': 256, 'dropout': 0.3, 'optimizer': 'Adam'}\n",
            "-0.112329 (0.082121) with: {'LSTM_unit': 512, 'dropout': 0.1, 'optimizer': 'RMSProp'}\n",
            "-0.180426 (0.040591) with: {'LSTM_unit': 512, 'dropout': 0.1, 'optimizer': 'SGD'}\n",
            "-0.143728 (0.126637) with: {'LSTM_unit': 512, 'dropout': 0.1, 'optimizer': 'Adam'}\n",
            "-0.155441 (0.063967) with: {'LSTM_unit': 512, 'dropout': 0.2, 'optimizer': 'RMSProp'}\n",
            "-0.183673 (0.036308) with: {'LSTM_unit': 512, 'dropout': 0.2, 'optimizer': 'SGD'}\n",
            "-0.124583 (0.062163) with: {'LSTM_unit': 512, 'dropout': 0.2, 'optimizer': 'Adam'}\n",
            "-0.145068 (0.058803) with: {'LSTM_unit': 512, 'dropout': 0.3, 'optimizer': 'RMSProp'}\n",
            "-0.173189 (0.050090) with: {'LSTM_unit': 512, 'dropout': 0.3, 'optimizer': 'SGD'}\n",
            "-0.154739 (0.147980) with: {'LSTM_unit': 512, 'dropout': 0.3, 'optimizer': 'Adam'}\n"
          ]
        }
      ]
    },
    {
      "cell_type": "code",
      "metadata": {
        "id": "f741fdb1",
        "colab": {
          "base_uri": "https://localhost:8080/"
        },
        "outputId": "28949298-5b94-408d-c40a-02e29415c10f"
      },
      "source": [
        "best_model.summary()"
      ],
      "id": "f741fdb1",
      "execution_count": 40,
      "outputs": [
        {
          "output_type": "stream",
          "name": "stdout",
          "text": [
            "Model: \"sequential\"\n",
            "_________________________________________________________________\n",
            " Layer (type)                Output Shape              Param #   \n",
            "=================================================================\n",
            " lstm (LSTM)                 (None, 5, 512)            1052672   \n",
            "                                                                 \n",
            " dropout (Dropout)           (None, 5, 512)            0         \n",
            "                                                                 \n",
            " lstm_1 (LSTM)               (None, 5, 512)            2099200   \n",
            "                                                                 \n",
            " dropout_1 (Dropout)         (None, 5, 512)            0         \n",
            "                                                                 \n",
            " lstm_2 (LSTM)               (None, 512)               2099200   \n",
            "                                                                 \n",
            " dropout_2 (Dropout)         (None, 512)               0         \n",
            "                                                                 \n",
            " dense (Dense)               (None, 1)                 513       \n",
            "                                                                 \n",
            "=================================================================\n",
            "Total params: 5,251,585\n",
            "Trainable params: 5,251,585\n",
            "Non-trainable params: 0\n",
            "_________________________________________________________________\n"
          ]
        }
      ]
    },
    {
      "cell_type": "code",
      "metadata": {
        "id": "bbcaf3c3"
      },
      "source": [
        "history = best_model.history"
      ],
      "id": "bbcaf3c3",
      "execution_count": 41,
      "outputs": []
    },
    {
      "cell_type": "code",
      "metadata": {
        "id": "d7aacf6f",
        "colab": {
          "base_uri": "https://localhost:8080/",
          "height": 513
        },
        "outputId": "357612eb-91ae-4f23-f921-bf69b7ec82c1"
      },
      "source": [
        "# grafik loss function MSE\n",
        "plt.figure(figsize=(15,8))\n",
        "plt.plot(history.history['loss'], label='MSE')\n",
        "plt.plot(history.history['root_mean_squared_error'], label='RMSE')\n",
        "plt.title('Loss MSE & Metrics RMSE')\n",
        "plt.ylabel('Value')\n",
        "plt.xlabel('Epoch')\n",
        "plt.legend()\n",
        "plt.grid()\n",
        "plt.show()"
      ],
      "id": "d7aacf6f",
      "execution_count": 42,
      "outputs": [
        {
          "output_type": "display_data",
          "data": {
            "image/png": "[encoded data removed]",
            "text/plain": [
              "<Figure size 1080x576 with 1 Axes>"
            ]
          },
          "metadata": {
            "needs_background": "light"
          }
        }
      ]
    },
    {
      "cell_type": "code",
      "metadata": {
        "id": "9c3acd75",
        "colab": {
          "base_uri": "https://localhost:8080/",
          "height": 424
        },
        "outputId": "706b84d9-ec21-4178-ab1e-5431906a144e"
      },
      "source": [
        "test['Prediksi'] = scaler.inverse_transform(best_model.predict(X_test))\n",
        "test"
      ],
      "id": "9c3acd75",
      "execution_count": 43,
      "outputs": [
        {
          "output_type": "stream",
          "name": "stderr",
          "text": [
            "/usr/local/lib/python3.7/dist-packages/ipykernel_launcher.py:1: SettingWithCopyWarning: \n",
            "A value is trying to be set on a copy of a slice from a DataFrame.\n",
            "Try using .loc[row_indexer,col_indexer] = value instead\n",
            "\n",
            "See the caveats in the documentation: https://pandas.pydata.org/pandas-docs/stable/user_guide/indexing.html#returning-a-view-versus-a-copy\n",
            "  \"\"\"Entry point for launching an IPython kernel.\n"
          ]
        },
        {
          "output_type": "execute_result",
          "data": {
            "text/html": [
              "<div>\n",
              "<style scoped>\n",
              "    .dataframe tbody tr th:only-of-type {\n",
              "        vertical-align: middle;\n",
              "    }\n",
              "\n",
              "    .dataframe tbody tr th {\n",
              "        vertical-align: top;\n",
              "    }\n",
              "\n",
              "    .dataframe thead th {\n",
              "        text-align: right;\n",
              "    }\n",
              "</style>\n",
              "<table border=\"1\" class=\"dataframe\">\n",
              "  <thead>\n",
              "    <tr style=\"text-align: right;\">\n",
              "      <th></th>\n",
              "      <th>Jumlah</th>\n",
              "      <th>scaled</th>\n",
              "      <th>Prediksi</th>\n",
              "    </tr>\n",
              "    <tr>\n",
              "      <th>Tanggal</th>\n",
              "      <th></th>\n",
              "      <th></th>\n",
              "      <th></th>\n",
              "    </tr>\n",
              "  </thead>\n",
              "  <tbody>\n",
              "    <tr>\n",
              "      <th>2021-10-25</th>\n",
              "      <td>1993</td>\n",
              "      <td>0.701267</td>\n",
              "      <td>627.521240</td>\n",
              "    </tr>\n",
              "    <tr>\n",
              "      <th>2021-10-26</th>\n",
              "      <td>1984</td>\n",
              "      <td>0.698100</td>\n",
              "      <td>1088.818604</td>\n",
              "    </tr>\n",
              "    <tr>\n",
              "      <th>2021-10-27</th>\n",
              "      <td>2841</td>\n",
              "      <td>0.999648</td>\n",
              "      <td>353.108948</td>\n",
              "    </tr>\n",
              "    <tr>\n",
              "      <th>2021-10-28</th>\n",
              "      <td>2842</td>\n",
              "      <td>1.000000</td>\n",
              "      <td>2922.793945</td>\n",
              "    </tr>\n",
              "    <tr>\n",
              "      <th>2021-10-29</th>\n",
              "      <td>2113</td>\n",
              "      <td>0.743490</td>\n",
              "      <td>816.718994</td>\n",
              "    </tr>\n",
              "    <tr>\n",
              "      <th>2021-10-30</th>\n",
              "      <td>626</td>\n",
              "      <td>0.220267</td>\n",
              "      <td>2397.225586</td>\n",
              "    </tr>\n",
              "    <tr>\n",
              "      <th>2021-10-31</th>\n",
              "      <td>28</td>\n",
              "      <td>0.009852</td>\n",
              "      <td>1790.972046</td>\n",
              "    </tr>\n",
              "  </tbody>\n",
              "</table>\n",
              "</div>"
            ],
            "text/plain": [
              "            Jumlah    scaled     Prediksi\n",
              "Tanggal                                  \n",
              "2021-10-25    1993  0.701267   627.521240\n",
              "2021-10-26    1984  0.698100  1088.818604\n",
              "2021-10-27    2841  0.999648   353.108948\n",
              "2021-10-28    2842  1.000000  2922.793945\n",
              "2021-10-29    2113  0.743490   816.718994\n",
              "2021-10-30     626  0.220267  2397.225586\n",
              "2021-10-31      28  0.009852  1790.972046"
            ]
          },
          "metadata": {},
          "execution_count": 43
        }
      ]
    },
    {
      "cell_type": "code",
      "metadata": {
        "id": "84fa4af7",
        "colab": {
          "base_uri": "https://localhost:8080/"
        },
        "outputId": "d29e6320-2cb0-4c08-99e2-16d4fe788578"
      },
      "source": [
        "rmse = np.sqrt(mean_squared_error(test['Jumlah'], test['Prediksi']))\n",
        "print('Test RMSE: %.3f' % rmse)"
      ],
      "id": "84fa4af7",
      "execution_count": 44,
      "outputs": [
        {
          "output_type": "stream",
          "name": "stdout",
          "text": [
            "Test RMSE: 1548.625\n"
          ]
        }
      ]
    },
    {
      "cell_type": "code",
      "metadata": {
        "id": "eb1f3478",
        "colab": {
          "base_uri": "https://localhost:8080/",
          "height": 499
        },
        "outputId": "b698feed-827c-4fbf-ca5d-792f32f34026"
      },
      "source": [
        "plt.figure(figsize=(15,8))\n",
        "plt.grid()\n",
        "plt.title(\"Perbandingan Data Testing Dengan Prediksi\")\n",
        "plt.plot(train['Jumlah'], label=\"Data Training (Aktual)\")\n",
        "plt.plot(test['Jumlah'], label=\"Data Testing (Aktual)\")\n",
        "plt.plot(test['Prediksi'], label=\"Data Prediksi\")\n",
        "plt.legend(loc=\"upper left\")\n",
        "plt.show()"
      ],
      "id": "eb1f3478",
      "execution_count": 45,
      "outputs": [
        {
          "output_type": "display_data",
          "data": {
            "image/png": "[encoded data removed]",
            "text/plain": [
              "<Figure size 1080x576 with 1 Axes>"
            ]
          },
          "metadata": {
            "needs_background": "light"
          }
        }
      ]
    },
    {
      "cell_type": "code",
      "metadata": {
        "id": "0b22d76e"
      },
      "source": [
        "pred_list = []\n",
        "batch = test[-time_steps:][['scaled']].values.reshape((1, time_steps, 1))\n",
        "prediksi = 7\n",
        "for i in range(prediksi):   \n",
        "    pred_list.append(best_model.predict(batch)[0])\n",
        "    batch = np.append(batch[:,1:,:],[[pred_list[i]]],axis=1)"
      ],
      "id": "0b22d76e",
      "execution_count": 46,
      "outputs": []
    },
    {
      "cell_type": "code",
      "metadata": {
        "id": "3365b13c",
        "colab": {
          "base_uri": "https://localhost:8080/",
          "height": 269
        },
        "outputId": "e33302d9-9707-4c1f-940e-d9ca1d7080e4"
      },
      "source": [
        "add_dates = [df_final.index[-1] + DateOffset(days=x) for x in range(0,prediksi+1) ]\n",
        "df_prediksi = pd.DataFrame(scaler.inverse_transform(pred_list),\n",
        "                          index=add_dates[1:],\n",
        "                          columns=['Prediksi'])\n",
        "df_prediksi"
      ],
      "id": "3365b13c",
      "execution_count": 47,
      "outputs": [
        {
          "output_type": "execute_result",
          "data": {
            "text/html": [
              "<div>\n",
              "<style scoped>\n",
              "    .dataframe tbody tr th:only-of-type {\n",
              "        vertical-align: middle;\n",
              "    }\n",
              "\n",
              "    .dataframe tbody tr th {\n",
              "        vertical-align: top;\n",
              "    }\n",
              "\n",
              "    .dataframe thead th {\n",
              "        text-align: right;\n",
              "    }\n",
              "</style>\n",
              "<table border=\"1\" class=\"dataframe\">\n",
              "  <thead>\n",
              "    <tr style=\"text-align: right;\">\n",
              "      <th></th>\n",
              "      <th>Prediksi</th>\n",
              "    </tr>\n",
              "  </thead>\n",
              "  <tbody>\n",
              "    <tr>\n",
              "      <th>2021-11-01</th>\n",
              "      <td>1920.253033</td>\n",
              "    </tr>\n",
              "    <tr>\n",
              "      <th>2021-11-02</th>\n",
              "      <td>1171.861091</td>\n",
              "    </tr>\n",
              "    <tr>\n",
              "      <th>2021-11-03</th>\n",
              "      <td>542.538472</td>\n",
              "    </tr>\n",
              "    <tr>\n",
              "      <th>2021-11-04</th>\n",
              "      <td>3416.663398</td>\n",
              "    </tr>\n",
              "    <tr>\n",
              "      <th>2021-11-05</th>\n",
              "      <td>1941.228034</td>\n",
              "    </tr>\n",
              "    <tr>\n",
              "      <th>2021-11-06</th>\n",
              "      <td>479.809375</td>\n",
              "    </tr>\n",
              "    <tr>\n",
              "      <th>2021-11-07</th>\n",
              "      <td>2337.231590</td>\n",
              "    </tr>\n",
              "  </tbody>\n",
              "</table>\n",
              "</div>"
            ],
            "text/plain": [
              "               Prediksi\n",
              "2021-11-01  1920.253033\n",
              "2021-11-02  1171.861091\n",
              "2021-11-03   542.538472\n",
              "2021-11-04  3416.663398\n",
              "2021-11-05  1941.228034\n",
              "2021-11-06   479.809375\n",
              "2021-11-07  2337.231590"
            ]
          },
          "metadata": {},
          "execution_count": 47
        }
      ]
    },
    {
      "cell_type": "code",
      "metadata": {
        "id": "8a8908ab",
        "colab": {
          "base_uri": "https://localhost:8080/",
          "height": 516
        },
        "outputId": "a9616737-2e98-43f7-aec8-4bf72677b5af"
      },
      "source": [
        "plt.figure(figsize=(15,8))\n",
        "plt.grid()\n",
        "plt.title(\"Hasil Peramalan Mobilitas Kota Denpasar 7 hari kedepan (LSTM Model)\")\n",
        "plt.plot(df_final['Jumlah'], label=\"Data Training Aktual\")\n",
        "plt.plot(test['Jumlah'], label=\"Data Testing Aktual\")\n",
        "plt.plot(test['Prediksi'], label=\"Data Prediksi Testing\")\n",
        "plt.plot(df_prediksi['Prediksi'], label=\"Data Peramalan\")\n",
        "plt.legend(loc=\"upper left\")"
      ],
      "id": "8a8908ab",
      "execution_count": 48,
      "outputs": [
        {
          "output_type": "execute_result",
          "data": {
            "text/plain": [
              "<matplotlib.legend.Legend at 0x7f1a408ecc10>"
            ]
          },
          "metadata": {},
          "execution_count": 48
        },
        {
          "output_type": "display_data",
          "data": {
            "image/png": "[encoded data removed]",
            "text/plain": [
              "<Figure size 1080x576 with 1 Axes>"
            ]
          },
          "metadata": {
            "needs_background": "light"
          }
        }
      ]
    },
    {
      "cell_type": "code",
      "metadata": {
        "id": "ff9963c0"
      },
      "source": [
        "best_model.save('best_model.h5')"
      ],
      "id": "ff9963c0",
      "execution_count": 49,
      "outputs": []
    },
    {
      "cell_type": "code",
      "metadata": {
        "id": "HaYBFd9BVx1q"
      },
      "source": [
        "std = pd.DataFrame(stds)\n",
        "std.to_excel('std.xlsx')"
      ],
      "id": "HaYBFd9BVx1q",
      "execution_count": 50,
      "outputs": []
    },
    {
      "cell_type": "code",
      "metadata": {
        "id": "kaMQt7IBLdhd"
      },
      "source": [
        "means = pd.DataFrame(means)\n",
        "means.to_excel('means.xlsx')"
      ],
      "id": "kaMQt7IBLdhd",
      "execution_count": 51,
      "outputs": []
    },
    {
      "cell_type": "code",
      "metadata": {
        "id": "p3EnBImvOdO5"
      },
      "source": [
        "test.to_excel('test.xlsx')\n",
        "train.to_excel('train.xlsx')"
      ],
      "id": "p3EnBImvOdO5",
      "execution_count": 52,
      "outputs": []
    },
    {
      "cell_type": "code",
      "metadata": {
        "id": "woWJD_MVOjPH"
      },
      "source": [
        "df_prediksi.to_excel('hasil-peramalan.xlsx')"
      ],
      "id": "woWJD_MVOjPH",
      "execution_count": 53,
      "outputs": []
    }
  ]
}